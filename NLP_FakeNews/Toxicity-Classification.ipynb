{
  "nbformat": 4,
  "nbformat_minor": 0,
  "metadata": {
    "colab": {
      "name": "News Category Classification - BBC News",
      "version": "0.3.2",
      "provenance": [],
      "collapsed_sections": [],
      "toc_visible": true
    }
  },
  "cells": [
    {
      "metadata": {
        "id": "-h4oIrgOKMk0",
        "colab_type": "text"
      },
      "cell_type": "markdown",
      "source": [
        "# News Category Classification"
      ]
    },
    {
      "metadata": {
        "id": "uC-HA3VhKf3_",
        "colab_type": "text"
      },
      "cell_type": "markdown",
      "source": [
        "This notebook covers the news category classification fector in order to detrermine fake news. \n",
        "\n",
        "## Dataset\n",
        "To build model we will use BBC News data set.\n",
        "* 2225  BBC news story documents from 2004-2005.\n",
        "* Target Labels: 5 (business, politics, entertainment, tech, sport )\n",
        "<br>\n",
        "http://mlg.ucd.ie/datasets/bbc.html<br>\n",
        "-D. Greene and P. Cunningham. \"Practical Solutions to the Problem of Diagonal Dominance in Kernel Document Clustering\", Proc. ICML 2006.\n",
        "\n",
        "Formating to convert to csv.<br>\n",
        "https://github.com/manojknit/MachineLearningModels/blob/master/DataEnrich/BBC_News_Category_Dataset.py\n"
      ]
    },
    {
      "metadata": {
        "id": "EUVuHVE9ePTL",
        "colab_type": "text"
      },
      "cell_type": "markdown",
      "source": [
        "## 1. Data input\n",
        "Loading csv file and doing encoding for"
      ]
    },
    {
      "metadata": {
        "id": "JFMm799HKMlu",
        "colab_type": "code",
        "outputId": "ec3262af-4030-4bef-e3ce-5931c9073c35",
        "colab": {
          "base_uri": "https://localhost:8080/",
          "height": 785
        }
      },
      "cell_type": "code",
      "source": [
        "import pandas as pd\n",
        "import numpy as np\n",
        "import matplotlib.pyplot as plt\n",
        "import seaborn as sns\n",
        "color = sns.color_palette()\n",
        "\n",
        "import re\n",
        "import nltk\n",
        "nltk.download('stopwords')\n",
        "from nltk.corpus import stopwords  # stop words are, is, the etc. which are not needed for model\n",
        "from nltk.stem.porter import PorterStemmer\n",
        "!pip install gensim\n",
        "from gensim.models import word2vec \n",
        "from sklearn.manifold import TSNE\n",
        "\n",
        "%matplotlib inline"
      ],
      "execution_count": 3,
      "outputs": [
        {
          "output_type": "stream",
          "text": [
            "[nltk_data] Downloading package stopwords to /root/nltk_data...\n",
            "[nltk_data]   Unzipping corpora/stopwords.zip.\n",
            "Collecting gensim\n",
            "\u001b[?25l  Downloading https://files.pythonhosted.org/packages/6b/04/1f7ddead05cb601f76ed8930c1b66ba789122d932d95e94daf3518d465e6/gensim-3.6.0-cp27-cp27mu-manylinux1_x86_64.whl (23.6MB)\n",
            "\u001b[K    100% |████████████████████████████████| 23.6MB 545kB/s \n",
            "\u001b[?25hCollecting smart-open>=1.2.1 (from gensim)\n",
            "  Downloading https://files.pythonhosted.org/packages/4b/1f/6f27e3682124de63ac97a0a5876da6186de6c19410feab66c1543afab055/smart_open-1.7.1.tar.gz\n",
            "Requirement already satisfied: six>=1.5.0 in /usr/local/lib/python2.7/dist-packages (from gensim) (1.11.0)\n",
            "Requirement already satisfied: scipy>=0.18.1 in /usr/local/lib/python2.7/dist-packages (from gensim) (1.1.0)\n",
            "Requirement already satisfied: numpy>=1.11.3 in /usr/local/lib/python2.7/dist-packages (from gensim) (1.14.6)\n",
            "Collecting boto>=2.32 (from smart-open>=1.2.1->gensim)\n",
            "\u001b[?25l  Downloading https://files.pythonhosted.org/packages/23/10/c0b78c27298029e4454a472a1919bde20cb182dab1662cec7f2ca1dcc523/boto-2.49.0-py2.py3-none-any.whl (1.4MB)\n",
            "\u001b[K    100% |████████████████████████████████| 1.4MB 9.1MB/s \n",
            "\u001b[?25hCollecting bz2file (from smart-open>=1.2.1->gensim)\n",
            "  Downloading https://files.pythonhosted.org/packages/61/39/122222b5e85cd41c391b68a99ee296584b2a2d1d233e7ee32b4532384f2d/bz2file-0.98.tar.gz\n",
            "Requirement already satisfied: requests in /usr/local/lib/python2.7/dist-packages (from smart-open>=1.2.1->gensim) (2.18.4)\n",
            "Collecting boto3 (from smart-open>=1.2.1->gensim)\n",
            "\u001b[?25l  Downloading https://files.pythonhosted.org/packages/8e/92/58b5292e2278d4dfcbdc61009ada07cbace03355f256e83c67a95244f07b/boto3-1.9.46-py2.py3-none-any.whl (128kB)\n",
            "\u001b[K    100% |████████████████████████████████| 133kB 25.4MB/s \n",
            "\u001b[?25hRequirement already satisfied: idna<2.7,>=2.5 in /usr/local/lib/python2.7/dist-packages (from requests->smart-open>=1.2.1->gensim) (2.6)\n",
            "Requirement already satisfied: urllib3<1.23,>=1.21.1 in /usr/local/lib/python2.7/dist-packages (from requests->smart-open>=1.2.1->gensim) (1.22)\n",
            "Requirement already satisfied: certifi>=2017.4.17 in /usr/local/lib/python2.7/dist-packages (from requests->smart-open>=1.2.1->gensim) (2018.10.15)\n",
            "Requirement already satisfied: chardet<3.1.0,>=3.0.2 in /usr/local/lib/python2.7/dist-packages (from requests->smart-open>=1.2.1->gensim) (3.0.4)\n",
            "Collecting botocore<1.13.0,>=1.12.46 (from boto3->smart-open>=1.2.1->gensim)\n",
            "\u001b[?25l  Downloading https://files.pythonhosted.org/packages/d3/56/5e640fa7cf01ba13c727699fb8cbbe1dd6786caf78b3ca0199e3b07f86c0/botocore-1.12.46-py2.py3-none-any.whl (4.8MB)\n",
            "\u001b[K    100% |████████████████████████████████| 4.8MB 4.3MB/s \n",
            "\u001b[?25hCollecting jmespath<1.0.0,>=0.7.1 (from boto3->smart-open>=1.2.1->gensim)\n",
            "  Downloading https://files.pythonhosted.org/packages/b7/31/05c8d001f7f87f0f07289a5fc0fc3832e9a57f2dbd4d3b0fee70e0d51365/jmespath-0.9.3-py2.py3-none-any.whl\n",
            "Collecting s3transfer<0.2.0,>=0.1.10 (from boto3->smart-open>=1.2.1->gensim)\n",
            "\u001b[?25l  Downloading https://files.pythonhosted.org/packages/d7/14/2a0004d487464d120c9fb85313a75cd3d71a7506955be458eebfe19a6b1d/s3transfer-0.1.13-py2.py3-none-any.whl (59kB)\n",
            "\u001b[K    100% |████████████████████████████████| 61kB 21.8MB/s \n",
            "\u001b[?25hCollecting docutils>=0.10 (from botocore<1.13.0,>=1.12.46->boto3->smart-open>=1.2.1->gensim)\n",
            "\u001b[?25l  Downloading https://files.pythonhosted.org/packages/50/09/c53398e0005b11f7ffb27b7aa720c617aba53be4fb4f4f3f06b9b5c60f28/docutils-0.14-py2-none-any.whl (543kB)\n",
            "\u001b[K    100% |████████████████████████████████| 552kB 20.8MB/s \n",
            "\u001b[?25hRequirement already satisfied: python-dateutil<3.0.0,>=2.1; python_version >= \"2.7\" in /usr/local/lib/python2.7/dist-packages (from botocore<1.13.0,>=1.12.46->boto3->smart-open>=1.2.1->gensim) (2.5.3)\n",
            "Requirement already satisfied: futures<4.0.0,>=2.2.0; python_version == \"2.6\" or python_version == \"2.7\" in /usr/local/lib/python2.7/dist-packages (from s3transfer<0.2.0,>=0.1.10->boto3->smart-open>=1.2.1->gensim) (3.2.0)\n",
            "Building wheels for collected packages: smart-open, bz2file\n",
            "  Running setup.py bdist_wheel for smart-open ... \u001b[?25l-\b \bdone\n",
            "\u001b[?25h  Stored in directory: /root/.cache/pip/wheels/23/00/44/e5b939f7a80c04e32297dbd6d96fa3065af89ecf57e2b5f89f\n",
            "  Running setup.py bdist_wheel for bz2file ... \u001b[?25l-\b \bdone\n",
            "\u001b[?25h  Stored in directory: /root/.cache/pip/wheels/81/75/d6/e1317bf09bf1af5a30befc2a007869fa6e1f516b8f7c591cb9\n",
            "Successfully built smart-open bz2file\n",
            "Installing collected packages: boto, bz2file, jmespath, docutils, botocore, s3transfer, boto3, smart-open, gensim\n",
            "Successfully installed boto-2.49.0 boto3-1.9.46 botocore-1.12.46 bz2file-0.98 docutils-0.14 gensim-3.6.0 jmespath-0.9.3 s3transfer-0.1.13 smart-open-1.7.1\n"
          ],
          "name": "stdout"
        }
      ]
    },
    {
      "metadata": {
        "id": "pLDKrqMMzmxq",
        "colab_type": "code",
        "outputId": "a02beafd-0977-425b-810b-0a1d3650a462",
        "colab": {
          "resources": {
            "http://localhost:8080/nbextensions/google.colab/files.js": {
              "data": "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",
              "ok": true,
              "headers": [
                [
                  "content-type",
                  "application/javascript"
                ]
              ],
              "status": 200,
              "status_text": ""
            }
          },
          "base_uri": "https://localhost:8080/",
          "height": 69
        }
      },
      "cell_type": "code",
      "source": [
        "from google.colab import files\n",
        "uploaded = files.upload()"
      ],
      "execution_count": 4,
      "outputs": [
        {
          "output_type": "display_data",
          "data": {
            "text/plain": [
              "<IPython.core.display.HTML object>"
            ],
            "text/html": [
              "\n",
              "     <input type=\"file\" id=\"files-7d5a2438-7fbb-47f7-979f-fd45c80186c1\" name=\"files[]\" multiple disabled />\n",
              "     <output id=\"result-7d5a2438-7fbb-47f7-979f-fd45c80186c1\">\n",
              "      Upload widget is only available when the cell has been executed in the\n",
              "      current browser session. Please rerun this cell to enable.\n",
              "      </output>\n",
              "      <script src=\"/nbextensions/google.colab/files.js\"></script> "
            ]
          },
          "metadata": {
            "tags": []
          }
        },
        {
          "output_type": "stream",
          "text": [
            "Saving bbc-news-dataset.csv to bbc-news-dataset.csv\n"
          ],
          "name": "stdout"
        }
      ]
    },
    {
      "metadata": {
        "id": "45vv7UAMKMlx",
        "colab_type": "code",
        "colab": {}
      },
      "cell_type": "code",
      "source": [
        "from StringIO import StringIO\n",
        "df = pd.read_csv(StringIO(uploaded['bbc-news-dataset.csv']))\n",
        "df['category_id'] = df['category'].factorize()[0]"
      ],
      "execution_count": 0,
      "outputs": []
    },
    {
      "metadata": {
        "id": "SxQ2-zfA_bos",
        "colab_type": "code",
        "colab": {
          "base_uri": "https://localhost:8080/",
          "height": 34
        },
        "outputId": "c2f580bd-e550-4d49-eafb-b9f777fd2e55"
      },
      "cell_type": "code",
      "source": [
        "catid, catlable = df['category'].factorize()\n",
        "catlable"
      ],
      "execution_count": 29,
      "outputs": [
        {
          "output_type": "execute_result",
          "data": {
            "text/plain": [
              "Index([u'business', u'sport', u'entertainment', u'tech', u'politics'], dtype='object')"
            ]
          },
          "metadata": {
            "tags": []
          },
          "execution_count": 29
        }
      ]
    },
    {
      "metadata": {
        "id": "2wDV-e9TdRoU",
        "colab_type": "code",
        "colab": {}
      },
      "cell_type": "code",
      "source": [
        "#create dictionary\n",
        "category_id_df = df[['category', 'category_id']].drop_duplicates().sort_values('category_id')\n",
        "category_to_id = dict(category_id_df.values)\n",
        "id_to_category = dict(category_id_df[['category_id', 'category']].values)"
      ],
      "execution_count": 0,
      "outputs": []
    },
    {
      "metadata": {
        "id": "9A0fOMkUgFol",
        "colab_type": "text"
      },
      "cell_type": "markdown",
      "source": [
        "## Data Cleansing"
      ]
    },
    {
      "metadata": {
        "id": "jAM-PQz9gFEX",
        "colab_type": "code",
        "colab": {}
      },
      "cell_type": "code",
      "source": [
        "def clean_str(string):\n",
        "    \"\"\"\n",
        "    Tokenization/string cleaning for datasets.\n",
        "    Original taken from https://github.com/yoonkim/CNN_sentence/blob/master/process_data.py\n",
        "    \"\"\"\n",
        "    string = re.sub(r\"^b\", \"\", string)\n",
        "    string = re.sub(r\"\\\\n \", \"\", string)\n",
        "    string = re.sub(r\"\\'s\", \"\", string)\n",
        "    string = re.sub(r\"\\'ve\", \"\", string)\n",
        "    string = re.sub(r\"n\\'t\", \"\", string)\n",
        "    string = re.sub(r\"\\'re\", \"\", string)\n",
        "    string = re.sub(r\"\\'d\", \"\", string)\n",
        "    string = re.sub(r\"\\'ll\", \"\", string)\n",
        "    string = re.sub(r\",\", \"\", string)\n",
        "    string = re.sub(r\"!\", \" ! \", string)\n",
        "    string = re.sub(r\"\\(\", \"\", string)\n",
        "    string = re.sub(r\"\\)\", \"\", string)\n",
        "    string = re.sub(r\"\\?\", \"\", string)\n",
        "    string = re.sub(r\"'\", \"\", string)\n",
        "    string = re.sub(r\"[^A-Za-z0-9(),!?\\'\\`]\", \" \", string)\n",
        "    string = re.sub(r\"[0-9]\\w+|[0-9]\",\"\", string)\n",
        "    string = re.sub(r\"\\s{2,}\", \" \", string)\n",
        "    return string.strip().lower()"
      ],
      "execution_count": 0,
      "outputs": []
    },
    {
      "metadata": {
        "id": "DTcyZfjWjX-h",
        "colab_type": "code",
        "colab": {
          "base_uri": "https://localhost:8080/",
          "height": 119
        },
        "outputId": "5e8a574e-5950-4e14-c266-2724072a485e"
      },
      "cell_type": "code",
      "source": [
        "# df['news'].head()"
      ],
      "execution_count": 68,
      "outputs": [
        {
          "output_type": "execute_result",
          "data": {
            "text/plain": [
              "0    b'UK economy facing \\'major risks\\'\\n \\n The U...\n",
              "1    b'Aids and climate top Davos agenda\\n \\n Clima...\n",
              "2    b'Asian quake hits European shares\\n \\n Shares...\n",
              "3    b'India power shares jump on debut\\n \\n Shares...\n",
              "4    b\"Lacroix label bought by US firm\\n \\n Luxury ...\n",
              "Name: news, dtype: object"
            ]
          },
          "metadata": {
            "tags": []
          },
          "execution_count": 68
        }
      ]
    },
    {
      "metadata": {
        "id": "KKmV9JcoghCJ",
        "colab_type": "code",
        "colab": {
          "base_uri": "https://localhost:8080/",
          "height": 102
        },
        "outputId": "da5488c2-f428-4196-ea29-863e8941afc9"
      },
      "cell_type": "code",
      "source": [
        "!pip install textblob\n",
        "import nltk\n",
        "nltk.download('wordnet')\n",
        "from textblob import Word\n",
        "df['news'] = df['news'].apply(lambda x : (' '.join([Word(word).lemmatize() for word in clean_str(x).split()])) )"
      ],
      "execution_count": 82,
      "outputs": [
        {
          "output_type": "stream",
          "text": [
            "Requirement already satisfied: textblob in /usr/local/lib/python2.7/dist-packages (0.15.1)\n",
            "Requirement already satisfied: nltk>=3.1 in /usr/local/lib/python2.7/dist-packages (from textblob) (3.2.5)\n",
            "Requirement already satisfied: six in /usr/local/lib/python2.7/dist-packages (from nltk>=3.1->textblob) (1.11.0)\n",
            "[nltk_data] Downloading package wordnet to /root/nltk_data...\n",
            "[nltk_data]   Package wordnet is already up-to-date!\n"
          ],
          "name": "stdout"
        }
      ]
    },
    {
      "metadata": {
        "id": "kRviyvPXec-K",
        "colab_type": "text"
      },
      "cell_type": "markdown",
      "source": [
        "## 2. Exploratory Data Analysis (EDA)\n",
        "\n",
        "Lets get some familiarity with the structure and features of the dataset.\n",
        "\n",
        "A first step would be to look at some random news in each cataegory:"
      ]
    },
    {
      "metadata": {
        "id": "CM-x-fpjKMl0",
        "colab_type": "code",
        "outputId": "b6697ca3-0c1a-45d0-d539-1e5387f7d3cb",
        "colab": {
          "base_uri": "https://localhost:8080/",
          "height": 204
        }
      },
      "cell_type": "code",
      "source": [
        "df.sample(5, random_state=0)"
      ],
      "execution_count": 81,
      "outputs": [
        {
          "output_type": "execute_result",
          "data": {
            "text/html": [
              "<div>\n",
              "<style scoped>\n",
              "    .dataframe tbody tr th:only-of-type {\n",
              "        vertical-align: middle;\n",
              "    }\n",
              "\n",
              "    .dataframe tbody tr th {\n",
              "        vertical-align: top;\n",
              "    }\n",
              "\n",
              "    .dataframe thead th {\n",
              "        text-align: right;\n",
              "    }\n",
              "</style>\n",
              "<table border=\"1\" class=\"dataframe\">\n",
              "  <thead>\n",
              "    <tr style=\"text-align: right;\">\n",
              "      <th></th>\n",
              "      <th>id</th>\n",
              "      <th>news</th>\n",
              "      <th>category</th>\n",
              "      <th>category_id</th>\n",
              "    </tr>\n",
              "  </thead>\n",
              "  <tbody>\n",
              "    <tr>\n",
              "      <th>384</th>\n",
              "      <td>384</td>\n",
              "      <td>b'World leaders gather to face uncertainty\\n \\...</td>\n",
              "      <td>business</td>\n",
              "      <td>0</td>\n",
              "    </tr>\n",
              "    <tr>\n",
              "      <th>1983</th>\n",
              "      <td>1983</td>\n",
              "      <td>b'UK \\'discriminated against Roma\\'\\n \\n The g...</td>\n",
              "      <td>politics</td>\n",
              "      <td>4</td>\n",
              "    </tr>\n",
              "    <tr>\n",
              "      <th>985</th>\n",
              "      <td>985</td>\n",
              "      <td>b'Ferguson rues failure to cut gap\\n \\n Boss S...</td>\n",
              "      <td>sport</td>\n",
              "      <td>1</td>\n",
              "    </tr>\n",
              "    <tr>\n",
              "      <th>1386</th>\n",
              "      <td>1386</td>\n",
              "      <td>b'US actor Ossie Davis found dead\\n \\n US acto...</td>\n",
              "      <td>entertainment</td>\n",
              "      <td>2</td>\n",
              "    </tr>\n",
              "    <tr>\n",
              "      <th>1294</th>\n",
              "      <td>1294</td>\n",
              "      <td>b'Stern dropped from radio stations\\n \\n Contr...</td>\n",
              "      <td>entertainment</td>\n",
              "      <td>2</td>\n",
              "    </tr>\n",
              "  </tbody>\n",
              "</table>\n",
              "</div>"
            ],
            "text/plain": [
              "        id                                               news       category  \\\n",
              "384    384  b'World leaders gather to face uncertainty\\n \\...       business   \n",
              "1983  1983  b'UK \\'discriminated against Roma\\'\\n \\n The g...       politics   \n",
              "985    985  b'Ferguson rues failure to cut gap\\n \\n Boss S...          sport   \n",
              "1386  1386  b'US actor Ossie Davis found dead\\n \\n US acto...  entertainment   \n",
              "1294  1294  b'Stern dropped from radio stations\\n \\n Contr...  entertainment   \n",
              "\n",
              "      category_id  \n",
              "384             0  \n",
              "1983            4  \n",
              "985             1  \n",
              "1386            2  \n",
              "1294            2  "
            ]
          },
          "metadata": {
            "tags": []
          },
          "execution_count": 81
        }
      ]
    },
    {
      "metadata": {
        "id": "8GU61mTp5kpC",
        "colab_type": "code",
        "outputId": "f95fabfd-345c-4ea2-8379-c55978228f1c",
        "colab": {
          "base_uri": "https://localhost:8080/",
          "height": 348
        }
      },
      "cell_type": "code",
      "source": [
        "df.groupby('category').news.count().plot.bar(ylim=0)"
      ],
      "execution_count": 9,
      "outputs": [
        {
          "output_type": "execute_result",
          "data": {
            "text/plain": [
              "<matplotlib.axes._subplots.AxesSubplot at 0x7fa5b5a20c50>"
            ]
          },
          "metadata": {
            "tags": []
          },
          "execution_count": 9
        },
        {
          "output_type": "display_data",
          "data": {
            "image/png": "[encoded data removed]",
            "text/plain": [
              "<matplotlib.figure.Figure at 0x7fa5c0aa4050>"
            ]
          },
          "metadata": {
            "tags": []
          }
        }
      ]
    },
    {
      "metadata": {
        "id": "wJfd5JtwSKaP",
        "colab_type": "text"
      },
      "cell_type": "markdown",
      "source": [
        "We can see each category has almost same number of news. That is good for the model otherwise we need to manually adjust."
      ]
    },
    {
      "metadata": {
        "id": "mtmh4uCMKMl5",
        "colab_type": "code",
        "outputId": "22e8310c-896b-48df-e67a-6a41ad0047e3",
        "colab": {
          "base_uri": "https://localhost:8080/",
          "height": 34
        }
      },
      "cell_type": "code",
      "source": [
        "from sklearn.feature_extraction.text import TfidfVectorizer\n",
        "\n",
        "tfidf = TfidfVectorizer(sublinear_tf=True, min_df=5, norm='l2', encoding='latin-1', ngram_range=(1, 2), stop_words='english')\n",
        "\n",
        "features = tfidf.fit_transform(df.news).toarray()\n",
        "labels = df.category_id\n",
        "features.shape"
      ],
      "execution_count": 10,
      "outputs": [
        {
          "output_type": "execute_result",
          "data": {
            "text/plain": [
              "(2225, 14559)"
            ]
          },
          "metadata": {
            "tags": []
          },
          "execution_count": 10
        }
      ]
    },
    {
      "metadata": {
        "id": "P-DT_-fH_AJ0",
        "colab_type": "text"
      },
      "cell_type": "markdown",
      "source": [
        "Each of our 2225 documents is now represented by 14415 features, representing the tf-idf score for different unigrams and bigrams.\n",
        "\n",
        "This representation is not only useful for solving our classification task, but also to familiarize ourselves with the dataset. For example, we can use the [chi-squared test](https://en.wikipedia.org/wiki/Pearson%27s_chi-squared_test) to find the terms are the most correlated with each of the categories:"
      ]
    },
    {
      "metadata": {
        "id": "p5pkpgQsKMmN",
        "colab_type": "code",
        "outputId": "d67c9adc-4425-41fa-f361-3cad8cc8632a",
        "colab": {
          "base_uri": "https://localhost:8080/",
          "height": 782
        }
      },
      "cell_type": "code",
      "source": [
        "from sklearn.feature_selection import chi2\n",
        "\n",
        "N = 3\n",
        "for category, category_id in sorted(category_to_id.iteritems()):\n",
        "  features_chi2 = chi2(features, labels == category_id)\n",
        "  indices = np.argsort(features_chi2[0])\n",
        "  feature_names = np.array(tfidf.get_feature_names())[indices]\n",
        "  unigrams = [v for v in feature_names if len(v.split(' ')) == 1]\n",
        "  bigrams = [v for v in feature_names if len(v.split(' ')) == 2]\n",
        "  print(\"# '{}':\".format(category))\n",
        "  print(\"  . Most correlated unigrams:\\n       . {}\".format('\\n       . '.join(unigrams[-N:])))\n",
        "  print(\"  . Most correlated bigrams:\\n       . {}\".format('\\n       . '.join(bigrams[-N:])))"
      ],
      "execution_count": 11,
      "outputs": [
        {
          "output_type": "stream",
          "text": [
            "# 'business':\n",
            "  . Most correlated unigrams:\n",
            "       . oil\n",
            "       . growth\n",
            "       . shares\n",
            "  . Most correlated bigrams:\n",
            "       . analysts said\n",
            "       . stock market\n",
            "       . economic growth\n",
            "# 'entertainment':\n",
            "  . Most correlated unigrams:\n",
            "       . singer\n",
            "       . actor\n",
            "       . film\n",
            "  . Most correlated bigrams:\n",
            "       . los angeles\n",
            "       . film festival\n",
            "       . box office\n",
            "# 'politics':\n",
            "  . Most correlated unigrams:\n",
            "       . blair\n",
            "       . election\n",
            "       . labour\n",
            "  . Most correlated bigrams:\n",
            "       . prime minister\n",
            "       . tony blair\n",
            "       . mr blair\n",
            "# 'sport':\n",
            "  . Most correlated unigrams:\n",
            "       . coach\n",
            "       . match\n",
            "       . cup\n",
            "  . Most correlated bigrams:\n",
            "       . grand slam\n",
            "       . australian open\n",
            "       . champions league\n",
            "# 'tech':\n",
            "  . Most correlated unigrams:\n",
            "       . technology\n",
            "       . software\n",
            "       . users\n",
            "  . Most correlated bigrams:\n",
            "       . anti virus\n",
            "       . mobile phones\n",
            "       . mobile phone\n"
          ],
          "name": "stdout"
        }
      ]
    },
    {
      "metadata": {
        "id": "4I-TGszv_tKv",
        "colab_type": "text"
      },
      "cell_type": "markdown",
      "source": [
        "Will use [**t-SNE**](https://lvdmaaten.github.io/tsne/) for dimensionality reduction and plot cluster."
      ]
    },
    {
      "metadata": {
        "id": "TMzD5rlhKMl9",
        "colab_type": "code",
        "outputId": "e9c5121c-9b78-4094-90e2-e3959b8123bc",
        "colab": {
          "base_uri": "https://localhost:8080/",
          "height": 299
        }
      },
      "cell_type": "code",
      "source": [
        "from sklearn.manifold import TSNE\n",
        "\n",
        "# Sampling a subset of our dataset because t-SNE is computationally expensive\n",
        "SAMPLE_SIZE = int(len(features) * 0.3)\n",
        "np.random.seed(0)\n",
        "indices = np.random.choice(range(len(features)), size=SAMPLE_SIZE, replace=False)\n",
        "projected_features = TSNE(n_components=2, random_state=0).fit_transform(features[indices])\n",
        "colors = ['pink', 'green', 'midnightblue', 'orange', 'darkgrey']\n",
        "for category, category_id in sorted(category_to_id.iteritems()):\n",
        "    points = projected_features[(labels[indices] == category_id).values]\n",
        "    plt.scatter(points[:, 0], points[:, 1], s=30, c=colors[category_id], label=category)\n",
        "plt.title(\"tf-idf feature vector for each article, projected on 2 dimensions.\",\n",
        "          fontdict=dict(fontsize=15))\n",
        "plt.legend()"
      ],
      "execution_count": 12,
      "outputs": [
        {
          "output_type": "execute_result",
          "data": {
            "text/plain": [
              "<matplotlib.legend.Legend at 0x7fa5b13c4b10>"
            ]
          },
          "metadata": {
            "tags": []
          },
          "execution_count": 12
        },
        {
          "output_type": "display_data",
          "data": {
            "image/png": "[encoded data removed]",
            "text/plain": [
              "<matplotlib.figure.Figure at 0x7fa5b147dfd0>"
            ]
          },
          "metadata": {
            "tags": []
          }
        }
      ]
    },
    {
      "metadata": {
        "id": "8XOO-Ws1ERGy",
        "colab_type": "text"
      },
      "cell_type": "markdown",
      "source": [
        "Its good we can clearly distinguist different article categories.\n",
        "\n",
        "Need to know outliers. Some points from a category falling in the middle of a different category. One of these outliers is a business article about the football club Arsenal, falling in the middle of a sport cluster:"
      ]
    },
    {
      "metadata": {
        "id": "s5fao3PD4ki9",
        "colab_type": "code",
        "outputId": "2b5d4d0b-4e5a-4ee5-ae8f-fd96a078a84e",
        "colab": {
          "base_uri": "https://localhost:8080/",
          "height": 1754
        }
      },
      "cell_type": "code",
      "source": [
        "df[df.news.str.contains('Arsenal')]"
      ],
      "execution_count": 13,
      "outputs": [
        {
          "output_type": "execute_result",
          "data": {
            "text/html": [
              "<div>\n",
              "<style scoped>\n",
              "    .dataframe tbody tr th:only-of-type {\n",
              "        vertical-align: middle;\n",
              "    }\n",
              "\n",
              "    .dataframe tbody tr th {\n",
              "        vertical-align: top;\n",
              "    }\n",
              "\n",
              "    .dataframe thead th {\n",
              "        text-align: right;\n",
              "    }\n",
              "</style>\n",
              "<table border=\"1\" class=\"dataframe\">\n",
              "  <thead>\n",
              "    <tr style=\"text-align: right;\">\n",
              "      <th></th>\n",
              "      <th>id</th>\n",
              "      <th>news</th>\n",
              "      <th>category</th>\n",
              "      <th>category_id</th>\n",
              "    </tr>\n",
              "  </thead>\n",
              "  <tbody>\n",
              "    <tr>\n",
              "      <th>89</th>\n",
              "      <td>89</td>\n",
              "      <td>b'Arsenal \\'may seek full share listing\\'\\n \\n...</td>\n",
              "      <td>business</td>\n",
              "      <td>0</td>\n",
              "    </tr>\n",
              "    <tr>\n",
              "      <th>568</th>\n",
              "      <td>568</td>\n",
              "      <td>b'Poll explains free-kick decision\\n \\n Refere...</td>\n",
              "      <td>sport</td>\n",
              "      <td>1</td>\n",
              "    </tr>\n",
              "    <tr>\n",
              "      <th>569</th>\n",
              "      <td>569</td>\n",
              "      <td>b'Bellamy fined after row\\n \\n Newcastle have ...</td>\n",
              "      <td>sport</td>\n",
              "      <td>1</td>\n",
              "    </tr>\n",
              "    <tr>\n",
              "      <th>572</th>\n",
              "      <td>572</td>\n",
              "      <td>b'Spain coach faces racism inquiry\\n \\n Spain\\...</td>\n",
              "      <td>sport</td>\n",
              "      <td>1</td>\n",
              "    </tr>\n",
              "    <tr>\n",
              "      <th>573</th>\n",
              "      <td>573</td>\n",
              "      <td>b'Strachan turns down Pompey\\n \\n Former South...</td>\n",
              "      <td>sport</td>\n",
              "      <td>1</td>\n",
              "    </tr>\n",
              "    <tr>\n",
              "      <th>580</th>\n",
              "      <td>580</td>\n",
              "      <td>b'Parry firm over Gerrard\\n \\n Listen to the f...</td>\n",
              "      <td>sport</td>\n",
              "      <td>1</td>\n",
              "    </tr>\n",
              "    <tr>\n",
              "      <th>600</th>\n",
              "      <td>600</td>\n",
              "      <td>b'Henry tipped for Fifa award\\n \\n Fifa presid...</td>\n",
              "      <td>sport</td>\n",
              "      <td>1</td>\n",
              "    </tr>\n",
              "    <tr>\n",
              "      <th>610</th>\n",
              "      <td>610</td>\n",
              "      <td>b'Bridge could miss rest of season\\n \\n Chelse...</td>\n",
              "      <td>sport</td>\n",
              "      <td>1</td>\n",
              "    </tr>\n",
              "    <tr>\n",
              "      <th>632</th>\n",
              "      <td>632</td>\n",
              "      <td>b'Wenger offers Mutu hope\\n \\n Arsenal boss Ar...</td>\n",
              "      <td>sport</td>\n",
              "      <td>1</td>\n",
              "    </tr>\n",
              "    <tr>\n",
              "      <th>637</th>\n",
              "      <td>637</td>\n",
              "      <td>b'Campbell lifts lid on United feud\\n \\n Arsen...</td>\n",
              "      <td>sport</td>\n",
              "      <td>1</td>\n",
              "    </tr>\n",
              "    <tr>\n",
              "      <th>639</th>\n",
              "      <td>639</td>\n",
              "      <td>b\"Arsenal through on penalties\\n \\n Arsenal wi...</td>\n",
              "      <td>sport</td>\n",
              "      <td>1</td>\n",
              "    </tr>\n",
              "    <tr>\n",
              "      <th>657</th>\n",
              "      <td>657</td>\n",
              "      <td>b'Ferguson urges Henry punishment\\n \\n Sir Ale...</td>\n",
              "      <td>sport</td>\n",
              "      <td>1</td>\n",
              "    </tr>\n",
              "    <tr>\n",
              "      <th>658</th>\n",
              "      <td>658</td>\n",
              "      <td>b'Reaction from Spanish press\\n \\n England\\'s ...</td>\n",
              "      <td>sport</td>\n",
              "      <td>1</td>\n",
              "    </tr>\n",
              "    <tr>\n",
              "      <th>690</th>\n",
              "      <td>690</td>\n",
              "      <td>b'Mourinho defiant on Chelsea form\\n \\n Chelse...</td>\n",
              "      <td>sport</td>\n",
              "      <td>1</td>\n",
              "    </tr>\n",
              "    <tr>\n",
              "      <th>705</th>\n",
              "      <td>705</td>\n",
              "      <td>b'Aragones angered by racism fine\\n \\n Spain c...</td>\n",
              "      <td>sport</td>\n",
              "      <td>1</td>\n",
              "    </tr>\n",
              "    <tr>\n",
              "      <th>711</th>\n",
              "      <td>711</td>\n",
              "      <td>b'Anelka \\'eyes Man City departure\\'\\n \\n Stri...</td>\n",
              "      <td>sport</td>\n",
              "      <td>1</td>\n",
              "    </tr>\n",
              "    <tr>\n",
              "      <th>720</th>\n",
              "      <td>720</td>\n",
              "      <td>b'Prutton poised for lengthy FA ban\\n \\n South...</td>\n",
              "      <td>sport</td>\n",
              "      <td>1</td>\n",
              "    </tr>\n",
              "    <tr>\n",
              "      <th>733</th>\n",
              "      <td>733</td>\n",
              "      <td>b'Edu describes tunnel fracas\\n \\n Arsenal\\'s ...</td>\n",
              "      <td>sport</td>\n",
              "      <td>1</td>\n",
              "    </tr>\n",
              "    <tr>\n",
              "      <th>736</th>\n",
              "      <td>736</td>\n",
              "      <td>b'Edu blasts Arsenal\\n \\n Arsenal\\'s Brazilian...</td>\n",
              "      <td>sport</td>\n",
              "      <td>1</td>\n",
              "    </tr>\n",
              "    <tr>\n",
              "      <th>737</th>\n",
              "      <td>737</td>\n",
              "      <td>b\"Yeading face Newcastle in FA Cup\\n \\n Premie...</td>\n",
              "      <td>sport</td>\n",
              "      <td>1</td>\n",
              "    </tr>\n",
              "    <tr>\n",
              "      <th>738</th>\n",
              "      <td>738</td>\n",
              "      <td>b'Beckham relief as Real go through\\n \\n David...</td>\n",
              "      <td>sport</td>\n",
              "      <td>1</td>\n",
              "    </tr>\n",
              "    <tr>\n",
              "      <th>762</th>\n",
              "      <td>762</td>\n",
              "      <td>b'Wenger handed summer war chest\\n \\n Arsenal ...</td>\n",
              "      <td>sport</td>\n",
              "      <td>1</td>\n",
              "    </tr>\n",
              "    <tr>\n",
              "      <th>763</th>\n",
              "      <td>763</td>\n",
              "      <td>b'Wenger dejected as Arsenal slump\\n \\n Arsena...</td>\n",
              "      <td>sport</td>\n",
              "      <td>1</td>\n",
              "    </tr>\n",
              "    <tr>\n",
              "      <th>764</th>\n",
              "      <td>764</td>\n",
              "      <td>b'Brentford v Southampton\\n \\n Griffin Park\\n ...</td>\n",
              "      <td>sport</td>\n",
              "      <td>1</td>\n",
              "    </tr>\n",
              "    <tr>\n",
              "      <th>765</th>\n",
              "      <td>765</td>\n",
              "      <td>b'Klinsmann issues Lehmann warning\\n \\n German...</td>\n",
              "      <td>sport</td>\n",
              "      <td>1</td>\n",
              "    </tr>\n",
              "    <tr>\n",
              "      <th>768</th>\n",
              "      <td>768</td>\n",
              "      <td>b'Gallas sees two-horse race\\n \\n Chelsea\\'s W...</td>\n",
              "      <td>sport</td>\n",
              "      <td>1</td>\n",
              "    </tr>\n",
              "    <tr>\n",
              "      <th>769</th>\n",
              "      <td>769</td>\n",
              "      <td>b'Wenger steps up row\\n \\n Arsene Wenger has s...</td>\n",
              "      <td>sport</td>\n",
              "      <td>1</td>\n",
              "    </tr>\n",
              "    <tr>\n",
              "      <th>771</th>\n",
              "      <td>771</td>\n",
              "      <td>b\"English clubs make Euro history\\n \\n All fou...</td>\n",
              "      <td>sport</td>\n",
              "      <td>1</td>\n",
              "    </tr>\n",
              "    <tr>\n",
              "      <th>777</th>\n",
              "      <td>777</td>\n",
              "      <td>b'Wenger signs new deal\\n \\n Arsenal manager A...</td>\n",
              "      <td>sport</td>\n",
              "      <td>1</td>\n",
              "    </tr>\n",
              "    <tr>\n",
              "      <th>780</th>\n",
              "      <td>780</td>\n",
              "      <td>b'FA decides not to punish Mourinho\\n \\n The F...</td>\n",
              "      <td>sport</td>\n",
              "      <td>1</td>\n",
              "    </tr>\n",
              "    <tr>\n",
              "      <th>795</th>\n",
              "      <td>795</td>\n",
              "      <td>b'Adriano\\'s Chelsea link rejected\\n \\n Adrian...</td>\n",
              "      <td>sport</td>\n",
              "      <td>1</td>\n",
              "    </tr>\n",
              "    <tr>\n",
              "      <th>796</th>\n",
              "      <td>796</td>\n",
              "      <td>b'Reyes tricked into Real admission\\n \\n Jose ...</td>\n",
              "      <td>sport</td>\n",
              "      <td>1</td>\n",
              "    </tr>\n",
              "    <tr>\n",
              "      <th>810</th>\n",
              "      <td>810</td>\n",
              "      <td>b'Celtic make late bid for Bellamy\\n \\n Newcas...</td>\n",
              "      <td>sport</td>\n",
              "      <td>1</td>\n",
              "    </tr>\n",
              "    <tr>\n",
              "      <th>812</th>\n",
              "      <td>812</td>\n",
              "      <td>b'Cole refuses to blame van Persie\\n \\n Ashley...</td>\n",
              "      <td>sport</td>\n",
              "      <td>1</td>\n",
              "    </tr>\n",
              "    <tr>\n",
              "      <th>832</th>\n",
              "      <td>832</td>\n",
              "      <td>b'Redknapp\\'s Saints face Pompey tie\\n \\n New ...</td>\n",
              "      <td>sport</td>\n",
              "      <td>1</td>\n",
              "    </tr>\n",
              "    <tr>\n",
              "      <th>837</th>\n",
              "      <td>837</td>\n",
              "      <td>b'Wenger keeping faith with Almunia\\n \\n Arsen...</td>\n",
              "      <td>sport</td>\n",
              "      <td>1</td>\n",
              "    </tr>\n",
              "    <tr>\n",
              "      <th>845</th>\n",
              "      <td>845</td>\n",
              "      <td>b\"Cup holders Man Utd visit Everton\\n \\n Holde...</td>\n",
              "      <td>sport</td>\n",
              "      <td>1</td>\n",
              "    </tr>\n",
              "    <tr>\n",
              "      <th>870</th>\n",
              "      <td>870</td>\n",
              "      <td>b'Mourinho plots impressive course\\n \\n Chelse...</td>\n",
              "      <td>sport</td>\n",
              "      <td>1</td>\n",
              "    </tr>\n",
              "    <tr>\n",
              "      <th>871</th>\n",
              "      <td>871</td>\n",
              "      <td>b'Mourinho takes swipe at Arsenal\\n \\n Chelsea...</td>\n",
              "      <td>sport</td>\n",
              "      <td>1</td>\n",
              "    </tr>\n",
              "    <tr>\n",
              "      <th>874</th>\n",
              "      <td>874</td>\n",
              "      <td>b'Spain coach faces racism inquiry\\n \\n Spain\\...</td>\n",
              "      <td>sport</td>\n",
              "      <td>1</td>\n",
              "    </tr>\n",
              "    <tr>\n",
              "      <th>881</th>\n",
              "      <td>881</td>\n",
              "      <td>b'Parry puts Gerrard \\'above money\\'\\n \\n List...</td>\n",
              "      <td>sport</td>\n",
              "      <td>1</td>\n",
              "    </tr>\n",
              "    <tr>\n",
              "      <th>906</th>\n",
              "      <td>906</td>\n",
              "      <td>b'Wenger rules out new keeper\\n \\n Arsenal bos...</td>\n",
              "      <td>sport</td>\n",
              "      <td>1</td>\n",
              "    </tr>\n",
              "    <tr>\n",
              "      <th>908</th>\n",
              "      <td>908</td>\n",
              "      <td>b'Wenger shock at Newcastle dip\\n \\n Arsenal m...</td>\n",
              "      <td>sport</td>\n",
              "      <td>1</td>\n",
              "    </tr>\n",
              "    <tr>\n",
              "      <th>910</th>\n",
              "      <td>910</td>\n",
              "      <td>b'TV calls after Carroll error\\n \\n Spurs boss...</td>\n",
              "      <td>sport</td>\n",
              "      <td>1</td>\n",
              "    </tr>\n",
              "    <tr>\n",
              "      <th>911</th>\n",
              "      <td>911</td>\n",
              "      <td>b'Anelka apologises for criticism\\n \\n Manches...</td>\n",
              "      <td>sport</td>\n",
              "      <td>1</td>\n",
              "    </tr>\n",
              "    <tr>\n",
              "      <th>913</th>\n",
              "      <td>913</td>\n",
              "      <td>b\"Campbell rescues Arsenal\\n \\n Sol Campbell p...</td>\n",
              "      <td>sport</td>\n",
              "      <td>1</td>\n",
              "    </tr>\n",
              "    <tr>\n",
              "      <th>918</th>\n",
              "      <td>918</td>\n",
              "      <td>b'Bees handed potential Man Utd tie\\n \\n Brent...</td>\n",
              "      <td>sport</td>\n",
              "      <td>1</td>\n",
              "    </tr>\n",
              "    <tr>\n",
              "      <th>934</th>\n",
              "      <td>934</td>\n",
              "      <td>b'Highbury tunnel players in clear\\n \\n The Fo...</td>\n",
              "      <td>sport</td>\n",
              "      <td>1</td>\n",
              "    </tr>\n",
              "    <tr>\n",
              "      <th>942</th>\n",
              "      <td>942</td>\n",
              "      <td>b'Ferguson rues failure to cut gap\\n \\n Boss S...</td>\n",
              "      <td>sport</td>\n",
              "      <td>1</td>\n",
              "    </tr>\n",
              "    <tr>\n",
              "      <th>943</th>\n",
              "      <td>943</td>\n",
              "      <td>b'Ferguson hails Man Utd\\'s resolve\\n \\n Manch...</td>\n",
              "      <td>sport</td>\n",
              "      <td>1</td>\n",
              "    </tr>\n",
              "    <tr>\n",
              "      <th>978</th>\n",
              "      <td>978</td>\n",
              "      <td>b\"Robben and Cole earn Chelsea win\\n \\n Chesle...</td>\n",
              "      <td>sport</td>\n",
              "      <td>1</td>\n",
              "    </tr>\n",
              "    <tr>\n",
              "      <th>984</th>\n",
              "      <td>984</td>\n",
              "      <td>b\"Chelsea hold Arsenal\\n \\n A gripping game be...</td>\n",
              "      <td>sport</td>\n",
              "      <td>1</td>\n",
              "    </tr>\n",
              "    <tr>\n",
              "      <th>985</th>\n",
              "      <td>985</td>\n",
              "      <td>b'Ferguson rues failure to cut gap\\n \\n Boss S...</td>\n",
              "      <td>sport</td>\n",
              "      <td>1</td>\n",
              "    </tr>\n",
              "    <tr>\n",
              "      <th>991</th>\n",
              "      <td>991</td>\n",
              "      <td>b'Parry relishes Anfield challenge\\n \\n BBC Sp...</td>\n",
              "      <td>sport</td>\n",
              "      <td>1</td>\n",
              "    </tr>\n",
              "    <tr>\n",
              "      <th>1008</th>\n",
              "      <td>1008</td>\n",
              "      <td>b'Premier League planning Cole date\\n \\n The P...</td>\n",
              "      <td>sport</td>\n",
              "      <td>1</td>\n",
              "    </tr>\n",
              "  </tbody>\n",
              "</table>\n",
              "</div>"
            ],
            "text/plain": [
              "        id                                               news  category  \\\n",
              "89      89  b'Arsenal \\'may seek full share listing\\'\\n \\n...  business   \n",
              "568    568  b'Poll explains free-kick decision\\n \\n Refere...     sport   \n",
              "569    569  b'Bellamy fined after row\\n \\n Newcastle have ...     sport   \n",
              "572    572  b'Spain coach faces racism inquiry\\n \\n Spain\\...     sport   \n",
              "573    573  b'Strachan turns down Pompey\\n \\n Former South...     sport   \n",
              "580    580  b'Parry firm over Gerrard\\n \\n Listen to the f...     sport   \n",
              "600    600  b'Henry tipped for Fifa award\\n \\n Fifa presid...     sport   \n",
              "610    610  b'Bridge could miss rest of season\\n \\n Chelse...     sport   \n",
              "632    632  b'Wenger offers Mutu hope\\n \\n Arsenal boss Ar...     sport   \n",
              "637    637  b'Campbell lifts lid on United feud\\n \\n Arsen...     sport   \n",
              "639    639  b\"Arsenal through on penalties\\n \\n Arsenal wi...     sport   \n",
              "657    657  b'Ferguson urges Henry punishment\\n \\n Sir Ale...     sport   \n",
              "658    658  b'Reaction from Spanish press\\n \\n England\\'s ...     sport   \n",
              "690    690  b'Mourinho defiant on Chelsea form\\n \\n Chelse...     sport   \n",
              "705    705  b'Aragones angered by racism fine\\n \\n Spain c...     sport   \n",
              "711    711  b'Anelka \\'eyes Man City departure\\'\\n \\n Stri...     sport   \n",
              "720    720  b'Prutton poised for lengthy FA ban\\n \\n South...     sport   \n",
              "733    733  b'Edu describes tunnel fracas\\n \\n Arsenal\\'s ...     sport   \n",
              "736    736  b'Edu blasts Arsenal\\n \\n Arsenal\\'s Brazilian...     sport   \n",
              "737    737  b\"Yeading face Newcastle in FA Cup\\n \\n Premie...     sport   \n",
              "738    738  b'Beckham relief as Real go through\\n \\n David...     sport   \n",
              "762    762  b'Wenger handed summer war chest\\n \\n Arsenal ...     sport   \n",
              "763    763  b'Wenger dejected as Arsenal slump\\n \\n Arsena...     sport   \n",
              "764    764  b'Brentford v Southampton\\n \\n Griffin Park\\n ...     sport   \n",
              "765    765  b'Klinsmann issues Lehmann warning\\n \\n German...     sport   \n",
              "768    768  b'Gallas sees two-horse race\\n \\n Chelsea\\'s W...     sport   \n",
              "769    769  b'Wenger steps up row\\n \\n Arsene Wenger has s...     sport   \n",
              "771    771  b\"English clubs make Euro history\\n \\n All fou...     sport   \n",
              "777    777  b'Wenger signs new deal\\n \\n Arsenal manager A...     sport   \n",
              "780    780  b'FA decides not to punish Mourinho\\n \\n The F...     sport   \n",
              "795    795  b'Adriano\\'s Chelsea link rejected\\n \\n Adrian...     sport   \n",
              "796    796  b'Reyes tricked into Real admission\\n \\n Jose ...     sport   \n",
              "810    810  b'Celtic make late bid for Bellamy\\n \\n Newcas...     sport   \n",
              "812    812  b'Cole refuses to blame van Persie\\n \\n Ashley...     sport   \n",
              "832    832  b'Redknapp\\'s Saints face Pompey tie\\n \\n New ...     sport   \n",
              "837    837  b'Wenger keeping faith with Almunia\\n \\n Arsen...     sport   \n",
              "845    845  b\"Cup holders Man Utd visit Everton\\n \\n Holde...     sport   \n",
              "870    870  b'Mourinho plots impressive course\\n \\n Chelse...     sport   \n",
              "871    871  b'Mourinho takes swipe at Arsenal\\n \\n Chelsea...     sport   \n",
              "874    874  b'Spain coach faces racism inquiry\\n \\n Spain\\...     sport   \n",
              "881    881  b'Parry puts Gerrard \\'above money\\'\\n \\n List...     sport   \n",
              "906    906  b'Wenger rules out new keeper\\n \\n Arsenal bos...     sport   \n",
              "908    908  b'Wenger shock at Newcastle dip\\n \\n Arsenal m...     sport   \n",
              "910    910  b'TV calls after Carroll error\\n \\n Spurs boss...     sport   \n",
              "911    911  b'Anelka apologises for criticism\\n \\n Manches...     sport   \n",
              "913    913  b\"Campbell rescues Arsenal\\n \\n Sol Campbell p...     sport   \n",
              "918    918  b'Bees handed potential Man Utd tie\\n \\n Brent...     sport   \n",
              "934    934  b'Highbury tunnel players in clear\\n \\n The Fo...     sport   \n",
              "942    942  b'Ferguson rues failure to cut gap\\n \\n Boss S...     sport   \n",
              "943    943  b'Ferguson hails Man Utd\\'s resolve\\n \\n Manch...     sport   \n",
              "978    978  b\"Robben and Cole earn Chelsea win\\n \\n Chesle...     sport   \n",
              "984    984  b\"Chelsea hold Arsenal\\n \\n A gripping game be...     sport   \n",
              "985    985  b'Ferguson rues failure to cut gap\\n \\n Boss S...     sport   \n",
              "991    991  b'Parry relishes Anfield challenge\\n \\n BBC Sp...     sport   \n",
              "1008  1008  b'Premier League planning Cole date\\n \\n The P...     sport   \n",
              "\n",
              "      category_id  \n",
              "89              0  \n",
              "568             1  \n",
              "569             1  \n",
              "572             1  \n",
              "573             1  \n",
              "580             1  \n",
              "600             1  \n",
              "610             1  \n",
              "632             1  \n",
              "637             1  \n",
              "639             1  \n",
              "657             1  \n",
              "658             1  \n",
              "690             1  \n",
              "705             1  \n",
              "711             1  \n",
              "720             1  \n",
              "733             1  \n",
              "736             1  \n",
              "737             1  \n",
              "738             1  \n",
              "762             1  \n",
              "763             1  \n",
              "764             1  \n",
              "765             1  \n",
              "768             1  \n",
              "769             1  \n",
              "771             1  \n",
              "777             1  \n",
              "780             1  \n",
              "795             1  \n",
              "796             1  \n",
              "810             1  \n",
              "812             1  \n",
              "832             1  \n",
              "837             1  \n",
              "845             1  \n",
              "870             1  \n",
              "871             1  \n",
              "874             1  \n",
              "881             1  \n",
              "906             1  \n",
              "908             1  \n",
              "910             1  \n",
              "911             1  \n",
              "913             1  \n",
              "918             1  \n",
              "934             1  \n",
              "942             1  \n",
              "943             1  \n",
              "978             1  \n",
              "984             1  \n",
              "985             1  \n",
              "991             1  \n",
              "1008            1  "
            ]
          },
          "metadata": {
            "tags": []
          },
          "execution_count": 13
        }
      ]
    },
    {
      "metadata": {
        "id": "yPrfxDfoE6K8",
        "colab_type": "text"
      },
      "cell_type": "markdown",
      "source": [
        "These outliers are little outliers so we can ignore."
      ]
    },
    {
      "metadata": {
        "id": "1XwFNO4re_Fz",
        "colab_type": "text"
      },
      "cell_type": "markdown",
      "source": [
        "## 3. Model Cross Validation"
      ]
    },
    {
      "metadata": {
        "id": "GqNU7c6bFcGi",
        "colab_type": "text"
      },
      "cell_type": "markdown",
      "source": [
        "Lets compare models to apply.\n"
      ]
    },
    {
      "metadata": {
        "id": "MPI84Fkoel-a",
        "colab_type": "code",
        "colab": {}
      },
      "cell_type": "code",
      "source": [
        "from sklearn.ensemble import RandomForestClassifier\n",
        "from sklearn.naive_bayes import MultinomialNB\n",
        "from sklearn.linear_model import LogisticRegression\n",
        "\n",
        "from sklearn.model_selection import cross_val_score\n",
        "\n",
        "models = [\n",
        "    RandomForestClassifier(n_estimators=200, max_depth=3, random_state=0),\n",
        "    MultinomialNB(),\n",
        "    LogisticRegression(random_state=0),\n",
        "]\n",
        "CV = 5\n",
        "cv_df = pd.DataFrame(index=range(CV * len(models)))\n",
        "\n",
        "entries = []\n",
        "for model in models:\n",
        "  model_name = model.__class__.__name__\n",
        "  accuracies = cross_val_score(model, features, labels, scoring='accuracy', cv=CV)\n",
        "  for fold_idx, accuracy in enumerate(accuracies):\n",
        "    entries.append((model_name, fold_idx, accuracy))\n",
        "cv_df = pd.DataFrame(entries, columns=['model_name', 'fold_idx', 'accuracy'])"
      ],
      "execution_count": 0,
      "outputs": []
    },
    {
      "metadata": {
        "id": "njwq4ZqntBXn",
        "colab_type": "code",
        "outputId": "f03060f7-ccf4-43e1-d28d-e02ba1f1378c",
        "colab": {
          "base_uri": "https://localhost:8080/",
          "height": 330
        }
      },
      "cell_type": "code",
      "source": [
        "sns.boxplot(x='model_name', y='accuracy', data=cv_df)\n",
        "sns.stripplot(x='model_name', y='accuracy', data=cv_df, \n",
        "              size=8, jitter=True, edgecolor=\"gray\", linewidth=2)"
      ],
      "execution_count": 15,
      "outputs": [
        {
          "output_type": "stream",
          "text": [
            "/usr/local/lib/python2.7/dist-packages/seaborn/categorical.py:454: FutureWarning: remove_na is deprecated and is a private function. Do not use.\n",
            "  box_data = remove_na(group_data)\n"
          ],
          "name": "stderr"
        },
        {
          "output_type": "execute_result",
          "data": {
            "text/plain": [
              "<matplotlib.axes._subplots.AxesSubplot at 0x7fa5b1218e90>"
            ]
          },
          "metadata": {
            "tags": []
          },
          "execution_count": 15
        },
        {
          "output_type": "display_data",
          "data": {
            "image/png": "[encoded data removed]",
            "text/plain": [
              "<matplotlib.figure.Figure at 0x7fa5b148d0d0>"
            ]
          },
          "metadata": {
            "tags": []
          }
        }
      ]
    },
    {
      "metadata": {
        "id": "-DX1gVduotvA",
        "colab_type": "code",
        "outputId": "dad15d56-3474-4d6f-da69-6b2f1c8eb59b",
        "colab": {
          "base_uri": "https://localhost:8080/",
          "height": 102
        }
      },
      "cell_type": "code",
      "source": [
        "cv_df.groupby('model_name').accuracy.mean()"
      ],
      "execution_count": 16,
      "outputs": [
        {
          "output_type": "execute_result",
          "data": {
            "text/plain": [
              "model_name\n",
              "LogisticRegression        0.978872\n",
              "MultinomialNB             0.973917\n",
              "RandomForestClassifier    0.816111\n",
              "Name: accuracy, dtype: float64"
            ]
          },
          "metadata": {
            "tags": []
          },
          "execution_count": 16
        }
      ]
    },
    {
      "metadata": {
        "id": "ukL-IF2CnHa_",
        "colab_type": "text"
      },
      "cell_type": "markdown",
      "source": [
        "As per box plot `RandomForest` model shows a large variance, It reflects overfitting to its training data. Running cross-validation is necessary, because results from a single train/test split might be misleading.\n",
        "On the other hand `MultinomialNB` (Naive Bayes) and `LogisticRegression` performed realy well. However `LogisticRegression` is having a slight edge with a median accuracy of around 97%."
      ]
    },
    {
      "metadata": {
        "id": "UWZJZ9OyqCmJ",
        "colab_type": "text"
      },
      "cell_type": "markdown",
      "source": [
        "## 4. Model Training and Validation\n",
        "\n",
        "Lets train model and then analyze the main sources of misclassification on the test set. One way to eliminate sources of error is to look at the confusion matrix, a matrix used to show the discrepancies between predicted and actual labels.\n"
      ]
    },
    {
      "metadata": {
        "id": "3qr7ouOpVAB6",
        "colab_type": "text"
      },
      "cell_type": "markdown",
      "source": [
        "### Train Test Split"
      ]
    },
    {
      "metadata": {
        "id": "calqbe1fU7qY",
        "colab_type": "code",
        "colab": {}
      },
      "cell_type": "code",
      "source": [
        "from sklearn.model_selection import train_test_split\n",
        "X_train, X_test, y_train, y_test, indices_train, indices_test = train_test_split(features, labels, df.index, test_size=0.33, random_state=0)\n",
        "model.fit(X_train, y_train)"
      ],
      "execution_count": 0,
      "outputs": []
    },
    {
      "metadata": {
        "id": "eaX3V0rkVF7y",
        "colab_type": "text"
      },
      "cell_type": "markdown",
      "source": [
        "### Training"
      ]
    },
    {
      "metadata": {
        "id": "zE5u-IEa5gnj",
        "colab_type": "code",
        "colab": {}
      },
      "cell_type": "code",
      "source": [
        "# Logistic Regression\n",
        "model = LogisticRegression(random_state=0)\n",
        "y_pred_proba = model.predict_proba(X_test)\n",
        "y_pred = model.predict(X_test)"
      ],
      "execution_count": 0,
      "outputs": []
    },
    {
      "metadata": {
        "id": "WbSQQ7hhVVEU",
        "colab_type": "text"
      },
      "cell_type": "markdown",
      "source": [
        "### Validation"
      ]
    },
    {
      "metadata": {
        "id": "gYv3Q-gJ68ib",
        "colab_type": "code",
        "outputId": "fab115b9-20dc-4a7f-aad8-46e8c363b138",
        "colab": {
          "base_uri": "https://localhost:8080/",
          "height": 296
        }
      },
      "cell_type": "code",
      "source": [
        "# Validation\n",
        "from sklearn.metrics import confusion_matrix\n",
        "import seaborn as sns\n",
        "\n",
        "conf_mat = confusion_matrix(y_test, y_pred)\n",
        "sns.heatmap(conf_mat, annot=True, fmt='d',\n",
        "            xticklabels=category_id_df.category.values, yticklabels=category_id_df.category.values)\n",
        "plt.ylabel('Actual')\n",
        "plt.xlabel('Predicted')"
      ],
      "execution_count": 18,
      "outputs": [
        {
          "output_type": "execute_result",
          "data": {
            "text/plain": [
              "Text(0.5,15,u'Predicted')"
            ]
          },
          "metadata": {
            "tags": []
          },
          "execution_count": 18
        },
        {
          "output_type": "display_data",
          "data": {
            "image/png": "[encoded data removed]",
            "text/plain": [
              "<matplotlib.figure.Figure at 0x7fa5b0f09d50>"
            ]
          },
          "metadata": {
            "tags": []
          }
        }
      ]
    },
    {
      "metadata": {
        "id": "ylfJ2u4UrbDE",
        "colab_type": "text"
      },
      "cell_type": "markdown",
      "source": [
        "Given the extremely high accuracy of our model, the vast majority of the predictions end up on the diagonal (predicted label = actual label), where we want them to be! However, there are a number of misclassifications, and it might be interesting to see what those are caused by:"
      ]
    },
    {
      "metadata": {
        "id": "M9Kiqrtf9Gep",
        "colab_type": "code",
        "outputId": "2b00bce5-70c1-4ad2-b528-c6fa057a5774",
        "colab": {
          "base_uri": "https://localhost:8080/",
          "height": 401
        }
      },
      "cell_type": "code",
      "source": [
        "from IPython.display import display\n",
        "\n",
        "for predicted in category_id_df.category_id:\n",
        "  for actual in category_id_df.category_id:\n",
        "    if predicted != actual and conf_mat[actual, predicted] >= 2:\n",
        "      print(\"'{}' predicted as '{}' : {} examples.\".format(id_to_category[actual], id_to_category[predicted], conf_mat[actual, predicted]))\n",
        "      display(df.loc[indices_test[(y_test == actual) & (y_pred == predicted)]][['news']])\n",
        "      print('')"
      ],
      "execution_count": 19,
      "outputs": [
        {
          "output_type": "stream",
          "text": [
            "'tech' predicted as 'business' : 2 examples.\n"
          ],
          "name": "stdout"
        },
        {
          "output_type": "display_data",
          "data": {
            "text/plain": [
              "                                                   news\n",
              "1721  b'PC ownership to \\'double by 2010\\'\\n \\n The ...\n",
              "1609  b'Man auctions ad space on forehead\\n \\n A 20-..."
            ],
            "text/html": [
              "<div>\n",
              "<style scoped>\n",
              "    .dataframe tbody tr th:only-of-type {\n",
              "        vertical-align: middle;\n",
              "    }\n",
              "\n",
              "    .dataframe tbody tr th {\n",
              "        vertical-align: top;\n",
              "    }\n",
              "\n",
              "    .dataframe thead th {\n",
              "        text-align: right;\n",
              "    }\n",
              "</style>\n",
              "<table border=\"1\" class=\"dataframe\">\n",
              "  <thead>\n",
              "    <tr style=\"text-align: right;\">\n",
              "      <th></th>\n",
              "      <th>news</th>\n",
              "    </tr>\n",
              "  </thead>\n",
              "  <tbody>\n",
              "    <tr>\n",
              "      <th>1721</th>\n",
              "      <td>b'PC ownership to \\'double by 2010\\'\\n \\n The ...</td>\n",
              "    </tr>\n",
              "    <tr>\n",
              "      <th>1609</th>\n",
              "      <td>b'Man auctions ad space on forehead\\n \\n A 20-...</td>\n",
              "    </tr>\n",
              "  </tbody>\n",
              "</table>\n",
              "</div>"
            ]
          },
          "metadata": {
            "tags": []
          }
        },
        {
          "output_type": "stream",
          "text": [
            "\n",
            "'politics' predicted as 'business' : 2 examples.\n"
          ],
          "name": "stdout"
        },
        {
          "output_type": "display_data",
          "data": {
            "text/plain": [
              "                                                   news\n",
              "2129  b'\\'Super union\\' merger plan touted\\n \\n Two ...\n",
              "2198  b'\\'Super union\\' merger plan touted\\n \\n Two ..."
            ],
            "text/html": [
              "<div>\n",
              "<style scoped>\n",
              "    .dataframe tbody tr th:only-of-type {\n",
              "        vertical-align: middle;\n",
              "    }\n",
              "\n",
              "    .dataframe tbody tr th {\n",
              "        vertical-align: top;\n",
              "    }\n",
              "\n",
              "    .dataframe thead th {\n",
              "        text-align: right;\n",
              "    }\n",
              "</style>\n",
              "<table border=\"1\" class=\"dataframe\">\n",
              "  <thead>\n",
              "    <tr style=\"text-align: right;\">\n",
              "      <th></th>\n",
              "      <th>news</th>\n",
              "    </tr>\n",
              "  </thead>\n",
              "  <tbody>\n",
              "    <tr>\n",
              "      <th>2129</th>\n",
              "      <td>b'\\'Super union\\' merger plan touted\\n \\n Two ...</td>\n",
              "    </tr>\n",
              "    <tr>\n",
              "      <th>2198</th>\n",
              "      <td>b'\\'Super union\\' merger plan touted\\n \\n Two ...</td>\n",
              "    </tr>\n",
              "  </tbody>\n",
              "</table>\n",
              "</div>"
            ]
          },
          "metadata": {
            "tags": []
          }
        },
        {
          "output_type": "stream",
          "text": [
            "\n",
            "'business' predicted as 'politics' : 2 examples.\n"
          ],
          "name": "stdout"
        },
        {
          "output_type": "display_data",
          "data": {
            "text/plain": [
              "                                                  news\n",
              "384  b'World leaders gather to face uncertainty\\n \\...\n",
              "425  b'Saudi ministry to employ women\\n \\n Women wi..."
            ],
            "text/html": [
              "<div>\n",
              "<style scoped>\n",
              "    .dataframe tbody tr th:only-of-type {\n",
              "        vertical-align: middle;\n",
              "    }\n",
              "\n",
              "    .dataframe tbody tr th {\n",
              "        vertical-align: top;\n",
              "    }\n",
              "\n",
              "    .dataframe thead th {\n",
              "        text-align: right;\n",
              "    }\n",
              "</style>\n",
              "<table border=\"1\" class=\"dataframe\">\n",
              "  <thead>\n",
              "    <tr style=\"text-align: right;\">\n",
              "      <th></th>\n",
              "      <th>news</th>\n",
              "    </tr>\n",
              "  </thead>\n",
              "  <tbody>\n",
              "    <tr>\n",
              "      <th>384</th>\n",
              "      <td>b'World leaders gather to face uncertainty\\n \\...</td>\n",
              "    </tr>\n",
              "    <tr>\n",
              "      <th>425</th>\n",
              "      <td>b'Saudi ministry to employ women\\n \\n Women wi...</td>\n",
              "    </tr>\n",
              "  </tbody>\n",
              "</table>\n",
              "</div>"
            ]
          },
          "metadata": {
            "tags": []
          }
        },
        {
          "output_type": "stream",
          "text": [
            "\n"
          ],
          "name": "stdout"
        }
      ]
    },
    {
      "metadata": {
        "id": "6pQwcaB3rtU8",
        "colab_type": "text"
      },
      "cell_type": "markdown",
      "source": [
        "As can be seen above, the misclassified articles are articles that touch on different subjects (for example, articles involving both politics and business) and might hence even be missclassified by humans. This sort of errors will always happen, and it is unrealistic to aim for a model that achieves 100% accuracy.\n",
        "\n",
        "We can also look deeper inside the model and how it works, by finding which terms contribute the most to a document being classified in each of the categories:"
      ]
    },
    {
      "metadata": {
        "id": "kzO82ptUKMmA",
        "colab_type": "code",
        "outputId": "bcffa1f3-4cc1-4de0-9783-4ad4c808ecd4",
        "colab": {
          "base_uri": "https://localhost:8080/",
          "height": 85
        }
      },
      "cell_type": "code",
      "source": [
        "model.fit(features, labels)"
      ],
      "execution_count": 20,
      "outputs": [
        {
          "output_type": "execute_result",
          "data": {
            "text/plain": [
              "LogisticRegression(C=1.0, class_weight=None, dual=False, fit_intercept=True,\n",
              "          intercept_scaling=1, max_iter=100, multi_class='ovr', n_jobs=1,\n",
              "          penalty='l2', random_state=0, solver='liblinear', tol=0.0001,\n",
              "          verbose=0, warm_start=False)"
            ]
          },
          "metadata": {
            "tags": []
          },
          "execution_count": 20
        }
      ]
    },
    {
      "metadata": {
        "id": "FRSFp-W8KMmE",
        "colab_type": "code",
        "outputId": "8f89004f-26f4-4dea-e917-32279740f712",
        "colab": {
          "base_uri": "https://localhost:8080/",
          "height": 1122
        }
      },
      "cell_type": "code",
      "source": [
        "from sklearn.feature_selection import chi2\n",
        "\n",
        "N = 5\n",
        "for category, category_id in sorted(category_to_id.iteritems()):\n",
        "  indices = np.argsort(model.coef_[category_id])\n",
        "  feature_names = np.array(tfidf.get_feature_names())[indices]\n",
        "  unigrams = [v for v in reversed(feature_names) if len(v.split(' ')) == 1][:N]\n",
        "  bigrams = [v for v in reversed(feature_names) if len(v.split(' ')) == 2][:N]\n",
        "  print(\"# '{}':\".format(category))\n",
        "  print(\"  . Top unigrams:\\n       . {}\".format('\\n       . '.join(unigrams)))\n",
        "  print(\"  . Top bigrams:\\n       . {}\".format('\\n       . '.join(bigrams)))"
      ],
      "execution_count": 21,
      "outputs": [
        {
          "output_type": "stream",
          "text": [
            "# 'business':\n",
            "  . Top unigrams:\n",
            "       . company\n",
            "       . shares\n",
            "       . bank\n",
            "       . market\n",
            "       . firm\n",
            "  . Top bigrams:\n",
            "       . chief executive\n",
            "       . stock market\n",
            "       . analysts said\n",
            "       . economic growth\n",
            "       . oil prices\n",
            "# 'entertainment':\n",
            "  . Top unigrams:\n",
            "       . film\n",
            "       . music\n",
            "       . singer\n",
            "       . tv\n",
            "       . star\n",
            "  . Top bigrams:\n",
            "       . box office\n",
            "       . los angeles\n",
            "       . new york\n",
            "       . film festival\n",
            "       . big brother\n",
            "# 'politics':\n",
            "  . Top unigrams:\n",
            "       . labour\n",
            "       . party\n",
            "       . mr\n",
            "       . government\n",
            "       . election\n",
            "  . Top bigrams:\n",
            "       . mr blair\n",
            "       . tony blair\n",
            "       . prime minister\n",
            "       . general election\n",
            "       . mr brown\n",
            "# 'sport':\n",
            "  . Top unigrams:\n",
            "       . match\n",
            "       . cup\n",
            "       . club\n",
            "       . win\n",
            "       . game\n",
            "  . Top bigrams:\n",
            "       . year old\n",
            "       . australian open\n",
            "       . champions league\n",
            "       . world number\n",
            "       . bbc sport\n",
            "# 'tech':\n",
            "  . Top unigrams:\n",
            "       . computer\n",
            "       . users\n",
            "       . technology\n",
            "       . software\n",
            "       . online\n",
            "  . Top bigrams:\n",
            "       . said mr\n",
            "       . news website\n",
            "       . bbc news\n",
            "       . mobile phone\n",
            "       . mobile phones\n"
          ],
          "name": "stdout"
        }
      ]
    },
    {
      "metadata": {
        "id": "dR7gPG1bsjPF",
        "colab_type": "text"
      },
      "cell_type": "markdown",
      "source": [
        "This seems consistent with the terms we would expect, with the exception of the \"tech\" category, where the bigrams **`\"bbc news\"`** and **`\"news website\"`** are some of the most predictive. We also see that the **`\"sport\"`** category includes **`\"bbc sport\"`** as one of the most predictive bigrams.\n",
        "\n",
        "This is confirmed by looking at the frequency of each category for articles containing **`\"news website\"`**:"
      ]
    },
    {
      "metadata": {
        "id": "QOyYF6fdRc18",
        "colab_type": "code",
        "outputId": "6c0060d1-e3e0-4f94-d9d6-5e800fdf6f64",
        "colab": {
          "base_uri": "https://localhost:8080/",
          "height": 102
        }
      },
      "cell_type": "code",
      "source": [
        "df[df.news.str.lower().str.contains('news website')].category.value_counts()"
      ],
      "execution_count": 22,
      "outputs": [
        {
          "output_type": "execute_result",
          "data": {
            "text/plain": [
              "tech             69\n",
              "politics          8\n",
              "entertainment     7\n",
              "business          1\n",
              "Name: category, dtype: int64"
            ]
          },
          "metadata": {
            "tags": []
          },
          "execution_count": 22
        }
      ]
    },
    {
      "metadata": {
        "id": "KY7W_YW5s5Jw",
        "colab_type": "text"
      },
      "cell_type": "markdown",
      "source": [
        "What is most likely happening is that the editorial style of the **\"tech\"** section is different, and often includes ther terms **`\"bbc news\"`**  and **`\"news website\"`**, in the same way the sports section includes **`\"bbc sport\"`**.\n",
        "\n",
        "This is called a [**data leakage**](https://www.kaggle.com/wiki/Leakage), which is when information about the label we want to predict is accidentally added to the training set. In this specific case, our model still works equally good when excluding the leaky terms, but it's always good to be skeptical when a model performs unexpectedly well, hence the need for interpretable model instead of black-boxes that might work very well on the test set, but fail on real data.\n",
        "\n",
        "For the record, we can also confirm that the model works well on data unrelated to the BBC, as can be seen in the examples below:"
      ]
    },
    {
      "metadata": {
        "id": "DvmxlZdJGITR",
        "colab_type": "code",
        "outputId": "747d3702-d75d-499f-e9d1-b5effbc94e2a",
        "colab": {
          "base_uri": "https://localhost:8080/",
          "height": 272
        }
      },
      "cell_type": "code",
      "source": [
        "texts = [\"Hooli stock price soared after a dip in PiedPiper revenue growth.\",\n",
        "         \"Captain Tsubasa scores a magnificent goal for the Japanese team.\",\n",
        "         \"Merryweather mercenaries are sent on another mission, as government oversight groups call for new sanctions.\",\n",
        "         \"Beyoncé releases a new album, tops the charts in all of south-east Asia!\",\n",
        "         \"You won't guess what the latest trend in data analysis is!\"]\n",
        "text_features = tfidf.transform(texts)\n",
        "predictions = model.predict(text_features)\n",
        "for text, predicted in zip(texts, predictions):\n",
        "  print('\"{}\"'.format(text))\n",
        "  print(\"  - Predicted as: '{}'\".format(id_to_category[predicted]))\n",
        "  print(\"\")"
      ],
      "execution_count": 23,
      "outputs": [
        {
          "output_type": "stream",
          "text": [
            "\"Hooli stock price soared after a dip in PiedPiper revenue growth.\"\n",
            "  - Predicted as: 'business'\n",
            "\n",
            "\"Captain Tsubasa scores a magnificent goal for the Japanese team.\"\n",
            "  - Predicted as: 'sport'\n",
            "\n",
            "\"Merryweather mercenaries are sent on another mission, as government oversight groups call for new sanctions.\"\n",
            "  - Predicted as: 'politics'\n",
            "\n",
            "\"Beyoncé releases a new album, tops the charts in all of south-east Asia!\"\n",
            "  - Predicted as: 'entertainment'\n",
            "\n",
            "\"You won't guess what the latest trend in data analysis is!\"\n",
            "  - Predicted as: 'tech'\n",
            "\n"
          ],
          "name": "stdout"
        }
      ]
    },
    {
      "metadata": {
        "id": "H7pKeHnfpJWz",
        "colab_type": "text"
      },
      "cell_type": "markdown",
      "source": [
        "# Load Original fake news data to add feature"
      ]
    },
    {
      "metadata": {
        "id": "ZDGnSswupQK1",
        "colab_type": "code",
        "outputId": "65d047b3-ba29-42e7-c98f-f9cbca74c4c7",
        "colab": {
          "resources": {
            "http://localhost:8080/nbextensions/google.colab/files.js": {
              "data": "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",
              "ok": true,
              "headers": [
                [
                  "content-type",
                  "application/javascript"
                ]
              ],
              "status": 200,
              "status_text": ""
            }
          },
          "base_uri": "https://localhost:8080/",
          "height": 69
        }
      },
      "cell_type": "code",
      "source": [
        "uploaded = files.upload()"
      ],
      "execution_count": 26,
      "outputs": [
        {
          "output_type": "display_data",
          "data": {
            "text/plain": [
              "<IPython.core.display.HTML object>"
            ],
            "text/html": [
              "\n",
              "     <input type=\"file\" id=\"files-5ea80303-f6e5-4e0b-a571-a0e2bc37f7ae\" name=\"files[]\" multiple disabled />\n",
              "     <output id=\"result-5ea80303-f6e5-4e0b-a571-a0e2bc37f7ae\">\n",
              "      Upload widget is only available when the cell has been executed in the\n",
              "      current browser session. Please rerun this cell to enable.\n",
              "      </output>\n",
              "      <script src=\"/nbextensions/google.colab/files.js\"></script> "
            ]
          },
          "metadata": {
            "tags": []
          }
        },
        {
          "output_type": "stream",
          "text": [
            "Saving fake_real_dataset_spam.csv to fake_real_dataset_spam.csv\n"
          ],
          "name": "stdout"
        }
      ]
    },
    {
      "metadata": {
        "id": "Znw8IQeOpILj",
        "colab_type": "code",
        "colab": {}
      },
      "cell_type": "code",
      "source": [
        "from StringIO import StringIO\n",
        "df1 = pd.read_csv(StringIO(uploaded['fake_real_dataset_spam.csv']))"
      ],
      "execution_count": 0,
      "outputs": []
    },
    {
      "metadata": {
        "id": "YkKVYoOHtsXr",
        "colab_type": "code",
        "colab": {}
      },
      "cell_type": "code",
      "source": [
        "def combine_column(tuple1):\n",
        "    if(pd.notna(tuple1[1])):\n",
        "        if(tuple1[1].strip(' \\t\\n\\r') == ''):\n",
        "            return 'NA'\n",
        "        else:\n",
        "            return tuple1[1]\n",
        "    elif(pd.notna(tuple1[0])):\n",
        "        if(tuple1[0].strip(' \\t\\n\\r') == ''):\n",
        "            return 'NA'\n",
        "        else:\n",
        "            return tuple1[0]   \n",
        "    else:\n",
        "            return 'NA'"
      ],
      "execution_count": 0,
      "outputs": []
    },
    {
      "metadata": {
        "id": "PKb6ZQ5ZIVNs",
        "colab_type": "code",
        "colab": {}
      },
      "cell_type": "code",
      "source": [
        "df1['content'] = df1[['title', 'text']].apply(combine_column, axis=1)"
      ],
      "execution_count": 0,
      "outputs": []
    },
    {
      "metadata": {
        "id": "1vflAegkIwt-",
        "colab_type": "code",
        "colab": {}
      },
      "cell_type": "code",
      "source": [
        "text_features1 = tfidf.transform(df1['content'])"
      ],
      "execution_count": 0,
      "outputs": []
    },
    {
      "metadata": {
        "id": "A1JDNDNHjzLU",
        "colab_type": "code",
        "colab": {}
      },
      "cell_type": "code",
      "source": [
        "#predictions\n",
        "output1 = model.predict(text_features1)"
      ],
      "execution_count": 0,
      "outputs": []
    },
    {
      "metadata": {
        "id": "Z5NQb20bOGI2",
        "colab_type": "code",
        "colab": {}
      },
      "cell_type": "code",
      "source": [
        "df_output = pd.DataFrame(data=output1, columns=['category_fector'])"
      ],
      "execution_count": 0,
      "outputs": []
    },
    {
      "metadata": {
        "id": "xlzCZq4BI0i1",
        "colab_type": "code",
        "colab": {}
      },
      "cell_type": "code",
      "source": [
        "df1['category_fector'] = df_output.apply(lambda x:catlable[x])[['category_fector']]"
      ],
      "execution_count": 0,
      "outputs": []
    },
    {
      "metadata": {
        "id": "VoQo2x3UxAMO",
        "colab_type": "code",
        "colab": {
          "base_uri": "https://localhost:8080/",
          "height": 610
        },
        "outputId": "f139b517-d1e1-4c5a-fd95-ae0c8e891674"
      },
      "cell_type": "code",
      "source": [
        "df1.sample(5, random_state=0)"
      ],
      "execution_count": 60,
      "outputs": [
        {
          "output_type": "execute_result",
          "data": {
            "text/html": [
              "<div>\n",
              "<style scoped>\n",
              "    .dataframe tbody tr th:only-of-type {\n",
              "        vertical-align: middle;\n",
              "    }\n",
              "\n",
              "    .dataframe tbody tr th {\n",
              "        vertical-align: top;\n",
              "    }\n",
              "\n",
              "    .dataframe thead th {\n",
              "        text-align: right;\n",
              "    }\n",
              "</style>\n",
              "<table border=\"1\" class=\"dataframe\">\n",
              "  <thead>\n",
              "    <tr style=\"text-align: right;\">\n",
              "      <th></th>\n",
              "      <th>Unnamed: 0</th>\n",
              "      <th>uuid</th>\n",
              "      <th>ord_in_thread</th>\n",
              "      <th>author</th>\n",
              "      <th>published</th>\n",
              "      <th>title</th>\n",
              "      <th>text</th>\n",
              "      <th>language</th>\n",
              "      <th>crawled</th>\n",
              "      <th>site_url</th>\n",
              "      <th>...</th>\n",
              "      <th>main_img_url</th>\n",
              "      <th>replies_count</th>\n",
              "      <th>participants_count</th>\n",
              "      <th>likes</th>\n",
              "      <th>comments</th>\n",
              "      <th>shares</th>\n",
              "      <th>type</th>\n",
              "      <th>content</th>\n",
              "      <th>spam_score_fector</th>\n",
              "      <th>category_fector</th>\n",
              "    </tr>\n",
              "  </thead>\n",
              "  <tbody>\n",
              "    <tr>\n",
              "      <th>1095</th>\n",
              "      <td>1095</td>\n",
              "      <td>e2a9b33da3c30f2d576645416d4f91bbdb790962</td>\n",
              "      <td>0</td>\n",
              "      <td>BareNakedIslam</td>\n",
              "      <td>2016-11-06T23:08:05.041+02:00</td>\n",
              "      <td>GERMANY: Bigger than the Berlin Wall, the 12-f...</td>\n",
              "      <td>BNI Store Nov 6 2016 GERMANY: Bigger than the ...</td>\n",
              "      <td>english</td>\n",
              "      <td>2016-11-06T23:08:05.041+02:00</td>\n",
              "      <td>barenakedislam.com</td>\n",
              "      <td>...</td>\n",
              "      <td>http://www.barenakedislam.com/wp-content/uploa...</td>\n",
              "      <td>0</td>\n",
              "      <td>1</td>\n",
              "      <td>0</td>\n",
              "      <td>0</td>\n",
              "      <td>0</td>\n",
              "      <td>bs</td>\n",
              "      <td>BNI Store Nov 6 2016 GERMANY: Bigger than the ...</td>\n",
              "      <td>0.997050</td>\n",
              "      <td>politics</td>\n",
              "    </tr>\n",
              "    <tr>\n",
              "      <th>248</th>\n",
              "      <td>248</td>\n",
              "      <td>5fccb20a0257e0d9fd1e1df51d43352f73288fdd</td>\n",
              "      <td>0</td>\n",
              "      <td>JinMI</td>\n",
              "      <td>2016-10-28T06:57:21.454+03:00</td>\n",
              "      <td>Oregon Standoff Leaders Acquitted For Malheur ...</td>\n",
              "      <td>Oregon Standoff Leaders Acquitted For Malheur ...</td>\n",
              "      <td>english</td>\n",
              "      <td>2016-10-28T06:57:21.454+03:00</td>\n",
              "      <td>abovetopsecret.com</td>\n",
              "      <td>...</td>\n",
              "      <td>http://files.abovetopsecret.com/images/ats15.jpg</td>\n",
              "      <td>0</td>\n",
              "      <td>1</td>\n",
              "      <td>0</td>\n",
              "      <td>0</td>\n",
              "      <td>0</td>\n",
              "      <td>bs</td>\n",
              "      <td>Oregon Standoff Leaders Acquitted For Malheur ...</td>\n",
              "      <td>0.973779</td>\n",
              "      <td>business</td>\n",
              "    </tr>\n",
              "    <tr>\n",
              "      <th>688</th>\n",
              "      <td>688</td>\n",
              "      <td>3144f77474072fe03b136d63e83a472b35dec307</td>\n",
              "      <td>0</td>\n",
              "      <td>Alex Ansary</td>\n",
              "      <td>2016-11-07T20:01:08.775+02:00</td>\n",
              "      <td>Hillary Clinton in lead a day before Election Day</td>\n",
              "      <td>Hillary Clinton in lead a day before Election ...</td>\n",
              "      <td>english</td>\n",
              "      <td>2016-11-07T20:01:08.775+02:00</td>\n",
              "      <td>amtvmedia.com</td>\n",
              "      <td>...</td>\n",
              "      <td>http://www.amtvmedia.com/wp-content/uploads/20...</td>\n",
              "      <td>0</td>\n",
              "      <td>1</td>\n",
              "      <td>0</td>\n",
              "      <td>0</td>\n",
              "      <td>0</td>\n",
              "      <td>bs</td>\n",
              "      <td>Hillary Clinton in lead a day before Election ...</td>\n",
              "      <td>0.970459</td>\n",
              "      <td>politics</td>\n",
              "    </tr>\n",
              "    <tr>\n",
              "      <th>2128</th>\n",
              "      <td>2128</td>\n",
              "      <td>e93ca1c6fc0ec4bbcc786b72e5449b75a16556fe</td>\n",
              "      <td>0</td>\n",
              "      <td>The Associated Press</td>\n",
              "      <td>2016-11-08T23:13:00.000+02:00</td>\n",
              "      <td>IN-StHou-56-elected - SFGate</td>\n",
              "      <td>NaN</td>\n",
              "      <td>english</td>\n",
              "      <td>2016-11-09T06:12:01.559+02:00</td>\n",
              "      <td>www.sfgate.com</td>\n",
              "      <td>...</td>\n",
              "      <td>http://www.sfgate.com/img/pages/article/opengr...</td>\n",
              "      <td>0</td>\n",
              "      <td>0</td>\n",
              "      <td>0</td>\n",
              "      <td>0</td>\n",
              "      <td>0</td>\n",
              "      <td>news</td>\n",
              "      <td>IN-StHou-56-elected - SFGate</td>\n",
              "      <td>0.866053</td>\n",
              "      <td>sport</td>\n",
              "    </tr>\n",
              "    <tr>\n",
              "      <th>1170</th>\n",
              "      <td>1170</td>\n",
              "      <td>6c9b8c99ce5cbb1543bff3265bbb5c1b5460cf26</td>\n",
              "      <td>0</td>\n",
              "      <td>beforeitsnews.com</td>\n",
              "      <td>2016-10-26T18:25:00.000+03:00</td>\n",
              "      <td>It is Time for Hillary Clinton to Duck and Go ...</td>\n",
              "      <td>(Before It's News)\\r\\n(image credit: Justin Su...</td>\n",
              "      <td>english</td>\n",
              "      <td>2016-10-26T22:06:55.438+03:00</td>\n",
              "      <td>beforeitsnews.com</td>\n",
              "      <td>...</td>\n",
              "      <td>http://s3-us-west-2.amazonaws.com/sleuthjourna...</td>\n",
              "      <td>0</td>\n",
              "      <td>1</td>\n",
              "      <td>1</td>\n",
              "      <td>0</td>\n",
              "      <td>1</td>\n",
              "      <td>bs</td>\n",
              "      <td>(Before It's News)\\r\\n(image credit: Justin Su...</td>\n",
              "      <td>0.929635</td>\n",
              "      <td>politics</td>\n",
              "    </tr>\n",
              "  </tbody>\n",
              "</table>\n",
              "<p>5 rows × 24 columns</p>\n",
              "</div>"
            ],
            "text/plain": [
              "      Unnamed: 0                                      uuid  ord_in_thread  \\\n",
              "1095        1095  e2a9b33da3c30f2d576645416d4f91bbdb790962              0   \n",
              "248          248  5fccb20a0257e0d9fd1e1df51d43352f73288fdd              0   \n",
              "688          688  3144f77474072fe03b136d63e83a472b35dec307              0   \n",
              "2128        2128  e93ca1c6fc0ec4bbcc786b72e5449b75a16556fe              0   \n",
              "1170        1170  6c9b8c99ce5cbb1543bff3265bbb5c1b5460cf26              0   \n",
              "\n",
              "                    author                      published  \\\n",
              "1095        BareNakedIslam  2016-11-06T23:08:05.041+02:00   \n",
              "248                  JinMI  2016-10-28T06:57:21.454+03:00   \n",
              "688            Alex Ansary  2016-11-07T20:01:08.775+02:00   \n",
              "2128  The Associated Press  2016-11-08T23:13:00.000+02:00   \n",
              "1170     beforeitsnews.com  2016-10-26T18:25:00.000+03:00   \n",
              "\n",
              "                                                  title  \\\n",
              "1095  GERMANY: Bigger than the Berlin Wall, the 12-f...   \n",
              "248   Oregon Standoff Leaders Acquitted For Malheur ...   \n",
              "688   Hillary Clinton in lead a day before Election Day   \n",
              "2128                       IN-StHou-56-elected - SFGate   \n",
              "1170  It is Time for Hillary Clinton to Duck and Go ...   \n",
              "\n",
              "                                                   text language  \\\n",
              "1095  BNI Store Nov 6 2016 GERMANY: Bigger than the ...  english   \n",
              "248   Oregon Standoff Leaders Acquitted For Malheur ...  english   \n",
              "688   Hillary Clinton in lead a day before Election ...  english   \n",
              "2128                                                NaN  english   \n",
              "1170  (Before It's News)\\r\\n(image credit: Justin Su...  english   \n",
              "\n",
              "                            crawled            site_url       ...         \\\n",
              "1095  2016-11-06T23:08:05.041+02:00  barenakedislam.com       ...          \n",
              "248   2016-10-28T06:57:21.454+03:00  abovetopsecret.com       ...          \n",
              "688   2016-11-07T20:01:08.775+02:00       amtvmedia.com       ...          \n",
              "2128  2016-11-09T06:12:01.559+02:00      www.sfgate.com       ...          \n",
              "1170  2016-10-26T22:06:55.438+03:00   beforeitsnews.com       ...          \n",
              "\n",
              "                                           main_img_url  replies_count  \\\n",
              "1095  http://www.barenakedislam.com/wp-content/uploa...              0   \n",
              "248    http://files.abovetopsecret.com/images/ats15.jpg              0   \n",
              "688   http://www.amtvmedia.com/wp-content/uploads/20...              0   \n",
              "2128  http://www.sfgate.com/img/pages/article/opengr...              0   \n",
              "1170  http://s3-us-west-2.amazonaws.com/sleuthjourna...              0   \n",
              "\n",
              "     participants_count  likes comments  shares  type  \\\n",
              "1095                  1      0        0       0    bs   \n",
              "248                   1      0        0       0    bs   \n",
              "688                   1      0        0       0    bs   \n",
              "2128                  0      0        0       0  news   \n",
              "1170                  1      1        0       1    bs   \n",
              "\n",
              "                                                content  spam_score_fector  \\\n",
              "1095  BNI Store Nov 6 2016 GERMANY: Bigger than the ...           0.997050   \n",
              "248   Oregon Standoff Leaders Acquitted For Malheur ...           0.973779   \n",
              "688   Hillary Clinton in lead a day before Election ...           0.970459   \n",
              "2128                       IN-StHou-56-elected - SFGate           0.866053   \n",
              "1170  (Before It's News)\\r\\n(image credit: Justin Su...           0.929635   \n",
              "\n",
              "      category_fector  \n",
              "1095         politics  \n",
              "248          business  \n",
              "688          politics  \n",
              "2128            sport  \n",
              "1170         politics  \n",
              "\n",
              "[5 rows x 24 columns]"
            ]
          },
          "metadata": {
            "tags": []
          },
          "execution_count": 60
        }
      ]
    },
    {
      "metadata": {
        "id": "seLlnGnqtDV2",
        "colab_type": "code",
        "colab": {}
      },
      "cell_type": "code",
      "source": [
        "df1.to_csv('fake_real_dataset_spam_category.csv')"
      ],
      "execution_count": 0,
      "outputs": []
    },
    {
      "metadata": {
        "id": "LDujho5ru4c3",
        "colab_type": "code",
        "colab": {}
      },
      "cell_type": "code",
      "source": [
        "#download back\n",
        "files.download(\"fake_real_dataset_spam_category.csv\")"
      ],
      "execution_count": 0,
      "outputs": []
    },
    {
      "metadata": {
        "id": "NdC2rvN_KOuW",
        "colab_type": "code",
        "colab": {
          "base_uri": "https://localhost:8080/",
          "height": 34
        },
        "outputId": "2bda0a5f-5ee5-4aa5-e0a4-544be7ebfc61"
      },
      "cell_type": "code",
      "source": [
        "#Clean Up container\n",
        "#!rm 'fake_real_dataset_spam (2).csv'\n",
        "#!rm *.*\n",
        "#!ls"
      ],
      "execution_count": 30,
      "outputs": [
        {
          "output_type": "execute_result",
          "data": {
            "text/plain": [
              "'business'"
            ]
          },
          "metadata": {
            "tags": []
          },
          "execution_count": 30
        }
      ]
    },
    {
      "metadata": {
        "id": "O-t44060Ypq7",
        "colab_type": "text"
      },
      "cell_type": "markdown",
      "source": [
        "## Reference\n",
        "https://github.com/manojknit/Natural_Language_Processing/blob/master/Topic%20Modeling%20t-SNE%20and%20Visualization.ipynb <br>\n",
        "https://cloud.google.com/blog/products/gcp/problem-solving-with-ml-automatic-document-classification<br>\n",
        "https://www.kaggle.com/nlothian/fake-news-nlp-stuff"
      ]
    },
    {
      "metadata": {
        "id": "DT2_A8T6YpdG",
        "colab_type": "text"
      },
      "cell_type": "markdown",
      "source": [
        ""
      ]
    }
  ]
}