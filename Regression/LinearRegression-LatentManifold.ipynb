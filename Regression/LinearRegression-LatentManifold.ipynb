{
 "cells": [
  {
   "cell_type": "markdown",
   "metadata": {},
   "source": [
    "# Latent Manifold and Regression"
   ]
  },
  {
   "cell_type": "markdown",
   "metadata": {},
   "source": [
    "This example explains Multiple Linear Regression with Python 3, pandas and scikit-learn on Jupyter Notebook. We selected fake news data set. This dataset is not for regression problem so we are doing some more models to get good story.\n",
    "\n",
    "## Requirements\n",
    "To use this example you need Python 3 and latest versions of pandas and scikit-learn. I used Anaconda distribution to install.\n",
    "\n",
    "### Data Set: \n",
    "1.\tKaggle fake news dataset: https://www.kaggle.com/snapcrack/all-the-news\n",
    "2.\tReal News Dataset https://webhose.io/datasets/\n",
    "3.\tDomain Ranking: https://www.rankstore.com/bulk-alexa-rank-checker/#\n",
    "\n",
    "### Data Prep and enrichment: \n",
    "1.\tFixed format of file and data types\n",
    "2.\tFilled several missing values for columns\n",
    "3.\tData Enrichment: Downloaded real news data from webhose and massaged it. Wrote a program to aline format and merge file(File: Webhose_RealNews_DataPull.py). Then added this dimention after transposing to dataset. (enrichment)\n",
    "4.\tDomain ranking is the latent manifold.\n",
    "\n",
    "\n",
    "### ML life-cycle:\n",
    "1.\tBusiness objective connected to it.\n",
    "2.\tData set, data enrichment, wrangle and prepare it.\n",
    "3.\tFind a latent manifold\n",
    "4.\tWhat the data is saying\n",
    "\n",
    "## Algorithm\n",
    "1.\tMultiple Linear Regression."
   ]
  },
  {
   "cell_type": "code",
   "execution_count": 1,
   "metadata": {},
   "outputs": [],
   "source": [
    "# Multiple Linear Regression\n",
    "\n",
    "# Importing the libraries\n",
    "import numpy as np\n",
    "import matplotlib.pyplot as plt\n",
    "import pandas as pd"
   ]
  },
  {
   "cell_type": "code",
   "execution_count": 2,
   "metadata": {},
   "outputs": [
    {
     "name": "stdout",
     "output_type": "stream",
     "text": [
      "(3711, 20)\n"
     ]
    },
    {
     "data": {
      "text/html": [
       "<div>\n",
       "<style scoped>\n",
       "    .dataframe tbody tr th:only-of-type {\n",
       "        vertical-align: middle;\n",
       "    }\n",
       "\n",
       "    .dataframe tbody tr th {\n",
       "        vertical-align: top;\n",
       "    }\n",
       "\n",
       "    .dataframe thead th {\n",
       "        text-align: right;\n",
       "    }\n",
       "</style>\n",
       "<table border=\"1\" class=\"dataframe\">\n",
       "  <thead>\n",
       "    <tr style=\"text-align: right;\">\n",
       "      <th></th>\n",
       "      <th>ord_in_thread</th>\n",
       "      <th>domain_rank</th>\n",
       "      <th>spam_score</th>\n",
       "      <th>replies_count</th>\n",
       "      <th>participants_count</th>\n",
       "      <th>likes</th>\n",
       "      <th>comments</th>\n",
       "      <th>shares</th>\n",
       "    </tr>\n",
       "  </thead>\n",
       "  <tbody>\n",
       "    <tr>\n",
       "      <th>count</th>\n",
       "      <td>3711.000000</td>\n",
       "      <td>3.711000e+03</td>\n",
       "      <td>3711.000000</td>\n",
       "      <td>3711.000000</td>\n",
       "      <td>3711.000000</td>\n",
       "      <td>3711.000000</td>\n",
       "      <td>3711.000000</td>\n",
       "      <td>3711.000000</td>\n",
       "    </tr>\n",
       "    <tr>\n",
       "      <th>mean</th>\n",
       "      <td>1.669631</td>\n",
       "      <td>3.265969e+05</td>\n",
       "      <td>0.044921</td>\n",
       "      <td>2.291296</td>\n",
       "      <td>2.106710</td>\n",
       "      <td>24.406090</td>\n",
       "      <td>0.252493</td>\n",
       "      <td>24.398814</td>\n",
       "    </tr>\n",
       "    <tr>\n",
       "      <th>std</th>\n",
       "      <td>10.162467</td>\n",
       "      <td>1.209855e+06</td>\n",
       "      <td>0.160145</td>\n",
       "      <td>15.017726</td>\n",
       "      <td>9.617506</td>\n",
       "      <td>113.799844</td>\n",
       "      <td>5.814621</td>\n",
       "      <td>113.797344</td>\n",
       "    </tr>\n",
       "    <tr>\n",
       "      <th>min</th>\n",
       "      <td>0.000000</td>\n",
       "      <td>0.000000e+00</td>\n",
       "      <td>0.000000</td>\n",
       "      <td>0.000000</td>\n",
       "      <td>0.000000</td>\n",
       "      <td>0.000000</td>\n",
       "      <td>0.000000</td>\n",
       "      <td>0.000000</td>\n",
       "    </tr>\n",
       "    <tr>\n",
       "      <th>25%</th>\n",
       "      <td>0.000000</td>\n",
       "      <td>2.890000e+02</td>\n",
       "      <td>0.000000</td>\n",
       "      <td>0.000000</td>\n",
       "      <td>0.000000</td>\n",
       "      <td>0.000000</td>\n",
       "      <td>0.000000</td>\n",
       "      <td>0.000000</td>\n",
       "    </tr>\n",
       "    <tr>\n",
       "      <th>50%</th>\n",
       "      <td>0.000000</td>\n",
       "      <td>1.576100e+04</td>\n",
       "      <td>0.000000</td>\n",
       "      <td>0.000000</td>\n",
       "      <td>1.000000</td>\n",
       "      <td>0.000000</td>\n",
       "      <td>0.000000</td>\n",
       "      <td>0.000000</td>\n",
       "    </tr>\n",
       "    <tr>\n",
       "      <th>75%</th>\n",
       "      <td>0.000000</td>\n",
       "      <td>8.194000e+04</td>\n",
       "      <td>0.000000</td>\n",
       "      <td>0.000000</td>\n",
       "      <td>1.000000</td>\n",
       "      <td>0.000000</td>\n",
       "      <td>0.000000</td>\n",
       "      <td>0.000000</td>\n",
       "    </tr>\n",
       "    <tr>\n",
       "      <th>max</th>\n",
       "      <td>100.000000</td>\n",
       "      <td>7.310981e+06</td>\n",
       "      <td>1.000000</td>\n",
       "      <td>500.000000</td>\n",
       "      <td>296.000000</td>\n",
       "      <td>999.000000</td>\n",
       "      <td>319.000000</td>\n",
       "      <td>999.000000</td>\n",
       "    </tr>\n",
       "  </tbody>\n",
       "</table>\n",
       "</div>"
      ],
      "text/plain": [
       "       ord_in_thread   domain_rank   spam_score  replies_count  \\\n",
       "count    3711.000000  3.711000e+03  3711.000000    3711.000000   \n",
       "mean        1.669631  3.265969e+05     0.044921       2.291296   \n",
       "std        10.162467  1.209855e+06     0.160145      15.017726   \n",
       "min         0.000000  0.000000e+00     0.000000       0.000000   \n",
       "25%         0.000000  2.890000e+02     0.000000       0.000000   \n",
       "50%         0.000000  1.576100e+04     0.000000       0.000000   \n",
       "75%         0.000000  8.194000e+04     0.000000       0.000000   \n",
       "max       100.000000  7.310981e+06     1.000000     500.000000   \n",
       "\n",
       "       participants_count        likes     comments       shares  \n",
       "count         3711.000000  3711.000000  3711.000000  3711.000000  \n",
       "mean             2.106710    24.406090     0.252493    24.398814  \n",
       "std              9.617506   113.799844     5.814621   113.797344  \n",
       "min              0.000000     0.000000     0.000000     0.000000  \n",
       "25%              0.000000     0.000000     0.000000     0.000000  \n",
       "50%              1.000000     0.000000     0.000000     0.000000  \n",
       "75%              1.000000     0.000000     0.000000     0.000000  \n",
       "max            296.000000   999.000000   319.000000   999.000000  "
      ]
     },
     "execution_count": 2,
     "metadata": {},
     "output_type": "execute_result"
    }
   ],
   "source": [
    "# Importing the dataset\n",
    "#df = pd.read_csv('RealNewsData1.tsv', delimiter='\\t', quoting=3)#3 - ignores \"\"\n",
    "df = pd.read_csv('fake_real_dataset.csv')\n",
    "#X = dataset.iloc[:, :-1].values\n",
    "#y = dataset.iloc[:, 4].values\n",
    "\n",
    "print(df.shape)\n",
    "df.describe()"
   ]
  },
  {
   "cell_type": "code",
   "execution_count": 3,
   "metadata": {},
   "outputs": [
    {
     "data": {
      "text/plain": [
       "Index(['uuid', 'ord_in_thread', 'author', 'published', 'title', 'text',\n",
       "       'language', 'crawled', 'site_url', 'country', 'domain_rank',\n",
       "       'thread_title', 'spam_score', 'main_img_url', 'replies_count',\n",
       "       'participants_count', 'likes', 'comments', 'shares', 'type'],\n",
       "      dtype='object')"
      ]
     },
     "execution_count": 3,
     "metadata": {},
     "output_type": "execute_result"
    }
   ],
   "source": [
    "df.columns"
   ]
  },
  {
   "cell_type": "code",
   "execution_count": 4,
   "metadata": {},
   "outputs": [
    {
     "name": "stdout",
     "output_type": "stream",
     "text": [
      "(3711, 3)\n",
      "[[88465]\n",
      " [88465]\n",
      " [88465]\n",
      " ...\n",
      " [  283]\n",
      " [  943]\n",
      " [   13]]\n"
     ]
    }
   ],
   "source": [
    "# selecting Latent column\n",
    "dft = df.loc[:, ['domain_rank', 'shares', 'type']]\n",
    "print(dft.shape)\n",
    "X = dft.iloc[:, :-2].values\n",
    "y = dft.iloc[:, 1].values\n",
    "print(X)"
   ]
  },
  {
   "cell_type": "code",
   "execution_count": 5,
   "metadata": {},
   "outputs": [
    {
     "name": "stdout",
     "output_type": "stream",
     "text": [
      "[0 0 0 ... 3 6 0]\n"
     ]
    }
   ],
   "source": [
    "# LabelEncoder - Encoding categorical data to number, OneHotEncoder - row to column \n",
    "from sklearn.preprocessing import LabelEncoder, OneHotEncoder\n",
    "labelencoder = LabelEncoder()\n",
    "y = labelencoder.fit_transform(y)\n",
    "#onehotencoder = OneHotEncoder(categorical_features = [0])\n",
    "#y = onehotencoder.fit_transform(y).toarray()\n",
    "print(y)"
   ]
  },
  {
   "cell_type": "code",
   "execution_count": 6,
   "metadata": {},
   "outputs": [
    {
     "data": {
      "text/plain": [
       "<seaborn.axisgrid.FacetGrid at 0x113760f60>"
      ]
     },
     "execution_count": 6,
     "metadata": {},
     "output_type": "execute_result"
    },
    {
     "data": {
      "image/png": "[encoded data removed]",
      "text/plain": [
       "<Figure size 444.125x360 with 1 Axes>"
      ]
     },
     "metadata": {},
     "output_type": "display_data"
    }
   ],
   "source": [
    "\n",
    "import seaborn as sns\n",
    "sns.set()\n",
    "\n",
    "# Plot sepal with as a function of sepal_length across days\n",
    "g = sns.lmplot(x=\"domain_rank\", y=\"shares\", hue=\"type\",\n",
    "               truncate=True, data=dft)\n",
    "\n",
    "# Use more informative axis labels than are provided by default\n",
    "g.set_axis_labels(\"Domain Score\", \"Type\")\n"
   ]
  },
  {
   "cell_type": "code",
   "execution_count": 7,
   "metadata": {},
   "outputs": [
    {
     "data": {
      "image/png": "[encoded data removed]",
      "text/plain": [
       "<Figure size 444.125x360 with 6 Axes>"
      ]
     },
     "metadata": {},
     "output_type": "display_data"
    }
   ],
   "source": [
    "#Pairplot\n",
    "g = sns.pairplot(dft, kind=\"reg\", hue=\"type\")"
   ]
  },
  {
   "cell_type": "code",
   "execution_count": 8,
   "metadata": {},
   "outputs": [],
   "source": [
    "# Splitting the dataset into the Training set and Test set\n",
    "from sklearn.model_selection import train_test_split\n",
    "X_train, X_test, y_train, y_test = train_test_split(X, y, test_size = 0.2, random_state = 0)"
   ]
  },
  {
   "cell_type": "code",
   "execution_count": 9,
   "metadata": {},
   "outputs": [
    {
     "data": {
      "text/plain": [
       "LinearRegression(copy_X=True, fit_intercept=True, n_jobs=1, normalize=False)"
      ]
     },
     "execution_count": 9,
     "metadata": {},
     "output_type": "execute_result"
    }
   ],
   "source": [
    "# Fitting Multiple Linear Regression to the Training set\n",
    "from sklearn.linear_model import LinearRegression\n",
    "regressor = LinearRegression()\n",
    "regressor.fit(X_train, y_train)"
   ]
  },
  {
   "cell_type": "code",
   "execution_count": 10,
   "metadata": {},
   "outputs": [
    {
     "name": "stdout",
     "output_type": "stream",
     "text": [
      "[10.37520839 10.46378779  9.00143526 10.48658577 10.47235336 10.48709963\n",
      " 10.48732822 10.48675193 10.48726291 10.45974417 10.48658577 10.3407156\n",
      " 10.41594623 10.4874867  10.48721969 10.48726291 10.43313788 10.37520839\n",
      " 10.48709963 10.4874867  10.48658577 10.46387904 10.48709963 10.24990596\n",
      " 10.40154862 10.4874867  10.48674905 10.4874867  10.48709963 10.45974417\n",
      " 10.46562327 10.48721777 10.4874867  10.48714957 10.40878969 10.48658577\n",
      " 10.48658577 10.48721777  9.00143526 10.46378779 10.41594623 10.48718127\n",
      " 10.41594623  9.00143526 10.25287384 10.24990596  3.46543297 10.4874867\n",
      " 10.48709963 10.25287384 10.23104691  9.34351922 10.41594623 10.48721393\n",
      "  9.34351922 10.4873215  10.4871198  10.42070638 10.45974417  9.00143526\n",
      " 10.48718415 10.24990596 10.46378779 10.45974417 10.43313788 10.48709963\n",
      "  9.34351922 10.42070638 10.23104691 10.40154862 10.23104691 10.48719087\n",
      " 10.48690657 10.41594623 10.41594623 10.48747902 10.48658577 10.4874867\n",
      " 10.46562327 10.42070638 10.37520839 10.24990596 10.42070638 10.24990596\n",
      " 10.41594623  9.85817089 10.48712364 10.41594623 10.48709963 10.41594623\n",
      " 10.48709963 10.41760979 10.45974417 10.24990596 10.48709963 10.25287384\n",
      " 10.25287384  9.05049567 10.48709771  3.46543297 10.48726291 10.48675193\n",
      " 10.40154862 10.24990596 10.41594623 10.24990596 10.40878969 10.45974417\n",
      " 10.48658577 10.41594623 10.46378779 10.48709963 10.48721393 10.40154862\n",
      " 10.4874867  10.41594623 10.4874867  10.48691714 10.48707081 10.48704488\n",
      "  9.34351922 10.40252255 10.42070638 10.45974417 10.37520839 10.48709963\n",
      " 10.4874867  10.43313788 10.48747902 10.41760979 10.48671063 10.46562327\n",
      " 10.41594623 10.48721777 10.47235336 10.37520839 10.4873215  10.46562327\n",
      " 10.4874867  10.48721777 10.40154862 10.48674905 10.47235336 10.37520839\n",
      " 10.41594623 10.48709963 10.48658577 10.48658001 10.41594623 10.43313788\n",
      " 10.25287384 10.48709963 10.42070638 10.4874867  10.42070638 10.43313788\n",
      " 10.48726291 10.48709963 10.40878969 10.40878969 10.41594623 10.48658577\n",
      " 10.48726291 10.42070638 10.23104691 10.48718127 10.48709963 10.48721777\n",
      " 10.4870055  10.24990596  7.68234808 10.48721777 10.48683454 10.47235336\n",
      " 10.487358   10.48658577 10.48718703 10.41594623  9.34351922 10.45974417\n",
      " 10.4871198  10.4874867  10.48731382 10.48709963 10.24990596 10.48707081\n",
      " 10.23104691 10.41760979 10.48658577 10.48721777 10.48721969 10.4874867\n",
      " 10.3407156  10.46378779 10.48675482 10.46378779 10.3407156  10.25287384\n",
      " 10.4874867  10.43313788  9.00143526 10.47235336 10.43313788 10.45974417\n",
      " 10.48709963  3.46543297 10.48693058  3.46543297 10.24990596 10.24990596\n",
      " 10.25287384 10.48719087 10.37520839 10.48721393 10.48721393  9.34351922\n",
      " 10.48667702 10.41760979  9.34351922  7.68234808 10.46562327 10.48721777\n",
      " 10.48721393 10.46562327 10.48701511 10.37520839 10.41760979 10.37520839\n",
      " 10.48721777 10.48721969 10.4874867  10.46562327  9.00143526 10.48726291\n",
      " 10.48658577 10.48726291 10.40878969 10.48721393 10.48721777 10.48691714\n",
      " 10.48709963 10.42070638 10.48691714 10.47235336 10.4113974  10.48733399\n",
      " 10.4874867  10.48674905 10.42070638 10.48721969 10.23104691 10.48709963\n",
      " 10.46378779 10.40878969 10.48693154 10.25287384 10.46378779  3.46543297\n",
      " 10.25287384 10.41760979 10.48691714 10.41760979 10.4874867  10.46378779\n",
      " 10.37520839  9.00143526 10.48671063 10.4113974  10.48658577 10.48741371\n",
      " 10.43313788 10.42070638 10.43313788 10.40878969 10.46562327 10.48721777\n",
      " 10.35699767 10.4874867  10.48690657 10.48721777 10.40878969  9.34351922\n",
      " 10.48709963 10.4874867  10.48658577 10.48675482 10.41594623 10.41594623\n",
      " 10.44732707 10.46378779 10.4874867  10.42070638 10.4871976  10.24990596\n",
      " 10.45974417 10.48721393 10.48742235 10.48691714 10.48662707 10.40252255\n",
      " 10.23104691 10.41760979 10.48671063  9.34351922 10.40878969 10.44345729\n",
      " 10.41760979 10.41594623 10.48721777 10.47235336 10.40878969 10.23104691\n",
      " 10.48709963 10.40878969 10.48709963 10.46562327 10.40878969 10.25287384\n",
      "  9.00143526 10.46562327 10.48726099 10.4874867  10.48709963 10.48712364\n",
      " 10.48709963  3.46543297 10.48697573 10.48709963 10.46378779 10.48709963\n",
      " 10.41594623  9.00143526 10.48721777 10.48658577 10.48709963 10.48693058\n",
      " 10.48709963 10.42070638 10.40878969 10.45974417 10.41594623 10.47235336\n",
      " 10.4874867  10.47235336 10.25287384 10.48721777 10.48726291  3.46543297\n",
      " 10.40154862 10.23104691 10.24990596 10.48709963 10.40252255 10.48735896\n",
      " 10.04220866 10.48721777 10.48721777 10.48721777 10.4113974  10.43313788\n",
      " 10.4113974  10.48688928 10.41594623 10.40878969 10.47235336 10.48742235\n",
      " 10.41760979 10.4113974  10.48742235  9.34351922 10.41760979  9.00143526\n",
      " 10.3407156  10.40878969 10.37520839 10.4874867  10.41594623 10.47235336\n",
      " 10.45974417 10.25287384 10.23104691 10.37520839 10.42070638 10.48709963\n",
      " 10.48747902 10.48721393 10.41760979 10.48658577 10.43313788 10.48698341\n",
      " 10.4874867  10.41594623 10.48727444 10.4874867  10.48721777 10.48658577\n",
      " 10.48682205 10.48709963 10.25287384 10.48731958 10.487358   10.48728788\n",
      " 10.24990596 10.48688544 10.40154862 10.48721393 10.48732822 10.4874867\n",
      " 10.48721777 10.42070638 10.48721777 10.48721777 10.48660594 10.24990596\n",
      " 10.40154862 10.4874867  10.48739738 10.25287384 10.48709963 10.41760979\n",
      " 10.40252255 10.40252255 10.48742235 10.48709963 10.48747902 10.40252255\n",
      " 10.46378779 10.48747902 10.48721777 10.4874867  10.48732534 10.24990596\n",
      " 10.24990596 10.23104691 10.48658577 10.46562327 10.48681052 10.48709963\n",
      " 10.4874867  10.04220866 10.47235336 10.48690657 10.4874867  10.45974417\n",
      " 10.25287384 10.4874867  10.4874867   9.34351922 10.4874867  10.47235336\n",
      " 10.37520839 10.48709963 10.4874867  10.487358    9.00143526 10.46562327\n",
      " 10.41760979 10.48709963 10.48730325 10.4871976  10.40878969 10.48742235\n",
      " 10.48721777 10.4874867  10.48732822 10.24990596 10.48721777 10.24990596\n",
      "  9.00143526  9.34351922 10.45974417 10.48709963 10.48721777  3.46543297\n",
      " 10.46378779 10.48701607 10.46378779  9.33774481 10.46378779 10.4874867\n",
      " 10.42070638 10.40878969  9.00143526 10.48674905 10.46378779 10.48721777\n",
      " 10.46562327 10.48688928 10.40154862 10.48721393 10.47235336 10.48731958\n",
      " 10.46562327  3.46543297 10.24990596 10.40252255 10.48674905  9.34351922\n",
      " 10.48660594 10.4874867  10.48660594 10.40878969 10.48661266 10.45974417\n",
      " 10.46378779 10.42070638 10.48721777 10.46562327 10.43313788 10.46378779\n",
      " 10.48703239 10.25287384 10.3407156  10.25287384 10.48712364 10.48739738\n",
      " 10.4874867  10.48681052 10.43313788  9.00143526 10.47235336 10.37520839\n",
      " 10.48718127 10.46378779 10.48681052  3.46543297 10.48742235 10.4874867\n",
      " 10.487358   10.24990596 10.40878969 10.48726291 10.48721393 10.4874867\n",
      " 10.45974417 10.42070638 10.48721777 10.45974417 10.4874867  10.48747902\n",
      " 10.40878969 10.48721393 10.48721393 10.48675289 10.48674905 10.46378779\n",
      " 10.48709963 10.48721777 10.40154862 10.4874867  10.48658577  9.33774481\n",
      " 10.48726291 10.487358   10.4874867   9.00143526 10.4871976  10.4874867\n",
      " 10.48660594 10.4871976  10.48658577 10.41760979 10.48721393 10.48707658\n",
      "  3.46543297 10.48731189 10.48745981 10.48670391 10.46378779 10.48672984\n",
      " 10.48709963 10.47235336 10.37520839 10.25434626 10.48731958 10.48691714\n",
      " 10.48709963 10.46378779 10.4873215  10.37520839 10.41594623 10.23104691\n",
      " 10.48721777 10.48712364 10.4874867  10.48730325 10.48709963 10.41760979\n",
      " 10.48661266 10.48721777 10.48674905 10.41760979 10.40154862  3.46543297\n",
      " 10.46378779 10.4874867  10.40252255 10.40878969 10.47235336 10.48732534\n",
      " 10.48721777 10.4870055  10.40878969 10.47235336  9.85817089  3.46543297\n",
      " 10.48693154 10.48721777 10.47235336 10.4873215  10.48709963 10.48721777\n",
      "  9.34351922 10.48681052 10.46562327 10.48682013 10.37520839 10.48730325\n",
      " 10.25287384 10.48726291 10.4874867  10.48726291  9.85817089 10.47235336\n",
      " 10.48712364 10.47235336 10.48721777 10.4874867  10.41594623 10.4874867\n",
      " 10.41760979 10.48721777 10.4874867  10.48721393 10.48691714  7.82177439\n",
      " 10.48681917  9.00143526 10.4874867  10.48721393 10.37520839 10.23104691\n",
      " 10.37520839 10.48721777 10.46378779 10.40878969 10.48661651  9.00143526\n",
      " 10.48709963 10.48709963 10.48675289 10.42865628 10.41760979 10.45974417\n",
      " 10.47235336 10.25287384 10.48721777 10.24990596 10.48741371 10.48721777\n",
      " 10.45974417 10.48674905 10.40878969 10.4874867  10.48658577  9.34351922\n",
      " 10.42070638 10.41760979 10.24990596 10.4874867  10.48674905 10.4871976\n",
      "  3.46543297 10.3407156  10.41760979 10.37520839 10.48747902 10.43313788\n",
      " 10.48657905 10.48675193 10.48688928 10.25287384  9.85817089 10.48670391\n",
      " 10.24990596 10.4874867  10.48721393 10.48721393 10.48709963 10.40878969\n",
      " 10.48721393 10.41594623 10.43313788 10.48709963  9.00143526 10.4874867\n",
      " 10.41760979 10.42070638 10.48726291 10.43313788 10.40252255 10.40154862\n",
      " 10.48721777 10.48731958 10.48657617 10.48732822 10.48709963 10.37520839\n",
      " 10.48690657 10.48721393 10.48721393 10.47235336 10.48709963 10.42865628\n",
      " 10.04220866 10.48709963 10.48726291 10.48721777 10.48742235  9.34351922\n",
      " 10.41760979  9.00143526 10.48726291 10.48709963 10.47235336 10.48658577\n",
      " 10.25287384 10.41594623  9.00143526 10.4113974  10.47235336 10.4873215\n",
      " 10.48721777 10.42865628 10.45974417 10.4874867  10.48709963 10.48709963\n",
      " 10.25341652 10.41594623 10.48697573  9.00143526 10.42070638]\n"
     ]
    }
   ],
   "source": [
    "# Predicting the Test set results\n",
    "y_pred = regressor.predict(X_test)\n",
    "print(y_pred)"
   ]
  },
  {
   "cell_type": "code",
   "execution_count": 14,
   "metadata": {},
   "outputs": [
    {
     "data": {
      "image/png": "[encoded data removed]",
      "text/plain": [
       "<Figure size 432x288 with 1 Axes>"
      ]
     },
     "metadata": {},
     "output_type": "display_data"
    }
   ],
   "source": [
    "# Visualising the Training set results\n",
    "plt.scatter(X_train, y_train, color = 'red')\n",
    "plt.plot(X_train, regressor.predict(X_train), color = 'green')\n",
    "plt.title('Domain Rank vs share (Training set)')\n",
    "plt.xlabel('Domain Rank')\n",
    "plt.ylabel('Share')\n",
    "plt.show()"
   ]
  },
  {
   "cell_type": "code",
   "execution_count": 16,
   "metadata": {},
   "outputs": [
    {
     "data": {
      "image/png": "[encoded data removed]",
      "text/plain": [
       "<Figure size 432x288 with 1 Axes>"
      ]
     },
     "metadata": {},
     "output_type": "display_data"
    }
   ],
   "source": [
    "# Visualising the Test set results\n",
    "plt.scatter(X_test, y_test, color = 'red')\n",
    "plt.plot(X_train, regressor.predict(X_train), color = 'green')\n",
    "plt.title('Domain Rank vs Share (Test set)')\n",
    "plt.xlabel('Domain Rank')\n",
    "plt.ylabel('Share')\n",
    "plt.show()"
   ]
  },
  {
   "cell_type": "markdown",
   "metadata": {},
   "source": [
    "# Story \n",
    "As domain ranking grows people becomes less likely to share. Ideally, there is not regression."
   ]
  }
 ],
 "metadata": {
  "kernelspec": {
   "display_name": "Python 3",
   "language": "python",
   "name": "python3"
  },
  "language_info": {
   "codemirror_mode": {
    "name": "ipython",
    "version": 3
   },
   "file_extension": ".py",
   "mimetype": "text/x-python",
   "name": "python",
   "nbconvert_exporter": "python",
   "pygments_lexer": "ipython3",
   "version": "3.6.5"
  }
 },
 "nbformat": 4,
 "nbformat_minor": 2
}
